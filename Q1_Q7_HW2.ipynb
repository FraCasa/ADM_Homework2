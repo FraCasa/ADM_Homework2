{
 "cells": [
  {
   "cell_type": "code",
   "execution_count": 1,
   "metadata": {},
   "outputs": [],
   "source": [
    "import numpy as np\n",
    "import pandas as pd\n",
    "import matplotlib.pyplot as plt\n",
    "import gc"
   ]
  },
  {
   "cell_type": "code",
   "execution_count": 2,
   "metadata": {},
   "outputs": [],
   "source": [
    "oct19= pd.read_csv('s3://sapienza2020adm/ecommerce/2019-Oct.csv',\n",
    "                      parse_dates=['event_time'],\n",
    "                      date_parser=pd.to_datetime,nrows=40000)\n",
    "nov19=pd.read_csv('s3://sapienza2020adm/ecommerce/2019-Nov.csv',\n",
    "                      parse_dates=['event_time'],\n",
    "                      date_parser=pd.to_datetime,nrows=40000)"
   ]
  },
  {
   "cell_type": "code",
   "execution_count": 3,
   "metadata": {},
   "outputs": [],
   "source": [
    "frame = [oct19,nov19]\n",
    "df = pd.concat(frame)"
   ]
  },
  {
   "cell_type": "code",
   "execution_count": 4,
   "metadata": {},
   "outputs": [
    {
     "name": "stdout",
     "output_type": "stream",
     "text": [
      "(80000, 9)\n"
     ]
    },
    {
     "data": {
      "text/html": [
       "<div>\n",
       "<style scoped>\n",
       "    .dataframe tbody tr th:only-of-type {\n",
       "        vertical-align: middle;\n",
       "    }\n",
       "\n",
       "    .dataframe tbody tr th {\n",
       "        vertical-align: top;\n",
       "    }\n",
       "\n",
       "    .dataframe thead th {\n",
       "        text-align: right;\n",
       "    }\n",
       "</style>\n",
       "<table border=\"1\" class=\"dataframe\">\n",
       "  <thead>\n",
       "    <tr style=\"text-align: right;\">\n",
       "      <th></th>\n",
       "      <th>event_time</th>\n",
       "      <th>event_type</th>\n",
       "      <th>product_id</th>\n",
       "      <th>category_id</th>\n",
       "      <th>category_code</th>\n",
       "      <th>brand</th>\n",
       "      <th>price</th>\n",
       "      <th>user_id</th>\n",
       "      <th>user_session</th>\n",
       "    </tr>\n",
       "  </thead>\n",
       "  <tbody>\n",
       "    <tr>\n",
       "      <th>0</th>\n",
       "      <td>2019-10-01 00:00:00+00:00</td>\n",
       "      <td>view</td>\n",
       "      <td>44600062</td>\n",
       "      <td>2103807459595387724</td>\n",
       "      <td>NaN</td>\n",
       "      <td>shiseido</td>\n",
       "      <td>35.79</td>\n",
       "      <td>541312140</td>\n",
       "      <td>72d76fde-8bb3-4e00-8c23-a032dfed738c</td>\n",
       "    </tr>\n",
       "    <tr>\n",
       "      <th>1</th>\n",
       "      <td>2019-10-01 00:00:00+00:00</td>\n",
       "      <td>view</td>\n",
       "      <td>3900821</td>\n",
       "      <td>2053013552326770905</td>\n",
       "      <td>appliances.environment.water_heater</td>\n",
       "      <td>aqua</td>\n",
       "      <td>33.20</td>\n",
       "      <td>554748717</td>\n",
       "      <td>9333dfbd-b87a-4708-9857-6336556b0fcc</td>\n",
       "    </tr>\n",
       "    <tr>\n",
       "      <th>2</th>\n",
       "      <td>2019-10-01 00:00:01+00:00</td>\n",
       "      <td>view</td>\n",
       "      <td>17200506</td>\n",
       "      <td>2053013559792632471</td>\n",
       "      <td>furniture.living_room.sofa</td>\n",
       "      <td>NaN</td>\n",
       "      <td>543.10</td>\n",
       "      <td>519107250</td>\n",
       "      <td>566511c2-e2e3-422b-b695-cf8e6e792ca8</td>\n",
       "    </tr>\n",
       "    <tr>\n",
       "      <th>3</th>\n",
       "      <td>2019-10-01 00:00:01+00:00</td>\n",
       "      <td>view</td>\n",
       "      <td>1307067</td>\n",
       "      <td>2053013558920217191</td>\n",
       "      <td>computers.notebook</td>\n",
       "      <td>lenovo</td>\n",
       "      <td>251.74</td>\n",
       "      <td>550050854</td>\n",
       "      <td>7c90fc70-0e80-4590-96f3-13c02c18c713</td>\n",
       "    </tr>\n",
       "    <tr>\n",
       "      <th>4</th>\n",
       "      <td>2019-10-01 00:00:04+00:00</td>\n",
       "      <td>view</td>\n",
       "      <td>1004237</td>\n",
       "      <td>2053013555631882655</td>\n",
       "      <td>electronics.smartphone</td>\n",
       "      <td>apple</td>\n",
       "      <td>1081.98</td>\n",
       "      <td>535871217</td>\n",
       "      <td>c6bd7419-2748-4c56-95b4-8cec9ff8b80d</td>\n",
       "    </tr>\n",
       "  </tbody>\n",
       "</table>\n",
       "</div>"
      ],
      "text/plain": [
       "                 event_time event_type  product_id          category_id  \\\n",
       "0 2019-10-01 00:00:00+00:00       view    44600062  2103807459595387724   \n",
       "1 2019-10-01 00:00:00+00:00       view     3900821  2053013552326770905   \n",
       "2 2019-10-01 00:00:01+00:00       view    17200506  2053013559792632471   \n",
       "3 2019-10-01 00:00:01+00:00       view     1307067  2053013558920217191   \n",
       "4 2019-10-01 00:00:04+00:00       view     1004237  2053013555631882655   \n",
       "\n",
       "                         category_code     brand    price    user_id  \\\n",
       "0                                  NaN  shiseido    35.79  541312140   \n",
       "1  appliances.environment.water_heater      aqua    33.20  554748717   \n",
       "2           furniture.living_room.sofa       NaN   543.10  519107250   \n",
       "3                   computers.notebook    lenovo   251.74  550050854   \n",
       "4               electronics.smartphone     apple  1081.98  535871217   \n",
       "\n",
       "                           user_session  \n",
       "0  72d76fde-8bb3-4e00-8c23-a032dfed738c  \n",
       "1  9333dfbd-b87a-4708-9857-6336556b0fcc  \n",
       "2  566511c2-e2e3-422b-b695-cf8e6e792ca8  \n",
       "3  7c90fc70-0e80-4590-96f3-13c02c18c713  \n",
       "4  c6bd7419-2748-4c56-95b4-8cec9ff8b80d  "
      ]
     },
     "execution_count": 4,
     "metadata": {},
     "output_type": "execute_result"
    }
   ],
   "source": [
    "print(df.shape)\n",
    "df.head(5)"
   ]
  },
  {
   "cell_type": "code",
   "execution_count": 5,
   "metadata": {},
   "outputs": [
    {
     "data": {
      "text/html": [
       "<div>\n",
       "<style scoped>\n",
       "    .dataframe tbody tr th:only-of-type {\n",
       "        vertical-align: middle;\n",
       "    }\n",
       "\n",
       "    .dataframe tbody tr th {\n",
       "        vertical-align: top;\n",
       "    }\n",
       "\n",
       "    .dataframe thead th {\n",
       "        text-align: right;\n",
       "    }\n",
       "</style>\n",
       "<table border=\"1\" class=\"dataframe\">\n",
       "  <thead>\n",
       "    <tr style=\"text-align: right;\">\n",
       "      <th></th>\n",
       "      <th>event_time</th>\n",
       "      <th>event_type</th>\n",
       "      <th>product_id</th>\n",
       "      <th>category_id</th>\n",
       "      <th>category_code</th>\n",
       "      <th>brand</th>\n",
       "      <th>price</th>\n",
       "      <th>user_id</th>\n",
       "      <th>user_session</th>\n",
       "    </tr>\n",
       "  </thead>\n",
       "  <tbody>\n",
       "    <tr>\n",
       "      <th>39995</th>\n",
       "      <td>2019-11-01 02:31:08+00:00</td>\n",
       "      <td>view</td>\n",
       "      <td>7300489</td>\n",
       "      <td>2053013552863641845</td>\n",
       "      <td>NaN</td>\n",
       "      <td>transcend</td>\n",
       "      <td>80.56</td>\n",
       "      <td>552026815</td>\n",
       "      <td>f743825e-6c13-4514-b703-447e22dced73</td>\n",
       "    </tr>\n",
       "    <tr>\n",
       "      <th>39996</th>\n",
       "      <td>2019-11-01 02:31:08+00:00</td>\n",
       "      <td>view</td>\n",
       "      <td>4804295</td>\n",
       "      <td>2053013554658804075</td>\n",
       "      <td>electronics.audio.headphone</td>\n",
       "      <td>xiaomi</td>\n",
       "      <td>22.80</td>\n",
       "      <td>558730130</td>\n",
       "      <td>8c8eeeb6-2505-469f-bcec-b4e7733673df</td>\n",
       "    </tr>\n",
       "    <tr>\n",
       "      <th>39997</th>\n",
       "      <td>2019-11-01 02:31:09+00:00</td>\n",
       "      <td>view</td>\n",
       "      <td>5700788</td>\n",
       "      <td>2053013553970938175</td>\n",
       "      <td>auto.accessories.player</td>\n",
       "      <td>kenwood</td>\n",
       "      <td>85.86</td>\n",
       "      <td>553856707</td>\n",
       "      <td>69422120-2336-41d4-8a45-da575326cc0f</td>\n",
       "    </tr>\n",
       "    <tr>\n",
       "      <th>39998</th>\n",
       "      <td>2019-11-01 02:31:09+00:00</td>\n",
       "      <td>view</td>\n",
       "      <td>34800581</td>\n",
       "      <td>2062461754293617058</td>\n",
       "      <td>NaN</td>\n",
       "      <td>carfashion</td>\n",
       "      <td>28.31</td>\n",
       "      <td>563990930</td>\n",
       "      <td>b99b703d-1132-4436-ba13-6aa8e2b4f089</td>\n",
       "    </tr>\n",
       "    <tr>\n",
       "      <th>39999</th>\n",
       "      <td>2019-11-01 02:31:09+00:00</td>\n",
       "      <td>view</td>\n",
       "      <td>1201390</td>\n",
       "      <td>2053013561059312345</td>\n",
       "      <td>electronics.tablet</td>\n",
       "      <td>apple</td>\n",
       "      <td>1883.05</td>\n",
       "      <td>552586585</td>\n",
       "      <td>115e8b62-b14b-4d37-9c0a-24985e77de6a</td>\n",
       "    </tr>\n",
       "  </tbody>\n",
       "</table>\n",
       "</div>"
      ],
      "text/plain": [
       "                     event_time event_type  product_id          category_id  \\\n",
       "39995 2019-11-01 02:31:08+00:00       view     7300489  2053013552863641845   \n",
       "39996 2019-11-01 02:31:08+00:00       view     4804295  2053013554658804075   \n",
       "39997 2019-11-01 02:31:09+00:00       view     5700788  2053013553970938175   \n",
       "39998 2019-11-01 02:31:09+00:00       view    34800581  2062461754293617058   \n",
       "39999 2019-11-01 02:31:09+00:00       view     1201390  2053013561059312345   \n",
       "\n",
       "                     category_code       brand    price    user_id  \\\n",
       "39995                          NaN   transcend    80.56  552026815   \n",
       "39996  electronics.audio.headphone      xiaomi    22.80  558730130   \n",
       "39997      auto.accessories.player     kenwood    85.86  553856707   \n",
       "39998                          NaN  carfashion    28.31  563990930   \n",
       "39999           electronics.tablet       apple  1883.05  552586585   \n",
       "\n",
       "                               user_session  \n",
       "39995  f743825e-6c13-4514-b703-447e22dced73  \n",
       "39996  8c8eeeb6-2505-469f-bcec-b4e7733673df  \n",
       "39997  69422120-2336-41d4-8a45-da575326cc0f  \n",
       "39998  b99b703d-1132-4436-ba13-6aa8e2b4f089  \n",
       "39999  115e8b62-b14b-4d37-9c0a-24985e77de6a  "
      ]
     },
     "execution_count": 5,
     "metadata": {},
     "output_type": "execute_result"
    }
   ],
   "source": [
    "df.tail(5)"
   ]
  },
  {
   "cell_type": "markdown",
   "metadata": {},
   "source": [
    "## Q1 Suppose your funnel involves just three simple steps: 1) view, 2) cart, 3) purchase. Which is the rate of complete funnels?"
   ]
  },
  {
   "cell_type": "code",
   "execution_count": 6,
   "metadata": {},
   "outputs": [
    {
     "name": "stdout",
     "output_type": "stream",
     "text": [
      "The rate of complete funnels is 0.51%.\n"
     ]
    }
   ],
   "source": [
    "CF = df.groupby(['product_id','user_session','event_type']).event_type.count()\n",
    "#rename()-> Alter axes labels.\n",
    "#reset_index()->Reset the index of the DataFrame, and use the default one instead. \n",
    "CF = pd.DataFrame(CF).rename(columns={'event_type':'count'}).reset_index()\n",
    "gc.collect()\n",
    "CF = CF.groupby(['product_id','user_session']).user_session.count()\n",
    "CF = pd.DataFrame(CF).rename(columns={'user_session':'count'}).reset_index()\n",
    "gc.collect()\n",
    "Total=int(CF.shape[0])\n",
    "Th = CF[CF['count']==3].shape[0]\n",
    "CFR = round(Th*100 / Total,2)\n",
    "print(\"The rate of complete funnels is \"+str(CFR)+'%.')\n"
   ]
  },
  {
   "cell_type": "markdown",
   "metadata": {},
   "source": [
    "### Q1-1 What’s the operation users repeat more on average within a session? Produce a plot that shows the average number of times users perform each operation (view/removefromchart etc etc)."
   ]
  },
  {
   "cell_type": "code",
   "execution_count": 7,
   "metadata": {},
   "outputs": [
    {
     "data": {
      "image/png": "[encoded data removed]",
      "text/plain": [
       "<Figure size 432x288 with 1 Axes>"
      ]
     },
     "metadata": {
      "needs_background": "light"
     },
     "output_type": "display_data"
    },
    {
     "name": "stdout",
     "output_type": "stream",
     "text": [
      "1)  The most common operation:view\n",
      "2)  The average number of view operation:3.83\n",
      "3)  The average number of purchase operation:0.05\n",
      "4)  The average number of cart operation:0.04\n",
      "5)  The average number of removefromcart operation:0\n"
     ]
    }
   ],
   "source": [
    "'''\n",
    "Calculate all the times of diffenrent operations AP\n",
    "'''\n",
    "AP = df.groupby('event_type').event_type.count()\n",
    "#print(AP)\n",
    "# nunique()-> Return number of unique elements in the object.\n",
    "# unique()-> Return the value of unique elements in the object.\n",
    "'''\n",
    "Calculate the average number of times users perform each operation AVAP\n",
    "'''\n",
    "AVAP = AP.to_numpy() / df.user_session.nunique()\n",
    "#print(df.user_session.nunique())\n",
    "'''\n",
    "Sort the event_type by the number of  different operations ET\n",
    "'''\n",
    "ET = sorted(df.event_type.unique())\n",
    "plt.xlabel('Operation')\n",
    "plt.ylabel('Average Number')\n",
    "plt.plot(ET, AVAP, color='m', linestyle='dashed',  marker='D')\n",
    "plt.show()\n",
    "\n",
    "print(\"1)  The most common operation:\"+str(ET[-1]))\n",
    "print(\"2)  The average number of view operation:\"+str(round(AVAP[2],2)))\n",
    "print(\"3)  The average number of purchase operation:\"+str(round(AVAP[1],2)))\n",
    "print(\"4)  The average number of cart operation:\"+str(round(AVAP[0],2)))\n",
    "print(\"5)  The average number of removefromcart operation:\"+str(0))"
   ]
  },
  {
   "cell_type": "markdown",
   "metadata": {},
   "source": [
    "### Q1-2 How many times, on average, a user views a product before adding it to the cart?"
   ]
  },
  {
   "cell_type": "code",
   "execution_count": 8,
   "metadata": {},
   "outputs": [
    {
     "name": "stdout",
     "output_type": "stream",
     "text": [
      "The average times that users view a product before purchase it is 1.43\n"
     ]
    }
   ],
   "source": [
    "\n",
    "VCT= pd.DataFrame(df[(df.event_type == 'view') | (df.event_type == 'cart')].groupby(['product_id','user_session', 'event_type']).event_type.count()).rename(columns={'event_type':'my_count'}).reset_index()\n",
    "\n",
    "VC = pd.DataFrame(VCT.groupby(['product_id','user_session']).user_session.count()).rename(columns={'user_session':'count'}).reset_index()\n",
    "VC = VC[VC['count'] == 2]\n",
    "\n",
    "VC = pd.merge(VCT,VC[['product_id','user_session']], how='inner', on=['product_id','user_session'])\n",
    "\n",
    "MT= VCT[VCT['event_type'] == 'view'].my_count.mean()\n",
    "\n",
    "print(\"The average times that users view a product before purchase it is \"+str(round(MT,2)))\n"
   ]
  },
  {
   "cell_type": "markdown",
   "metadata": {},
   "source": [
    "### Q1-3 What’s the probability that products added once to the cart are effectively bought?"
   ]
  },
  {
   "cell_type": "markdown",
   "metadata": {},
   "source": [
    "Let a={product is added once to the cart},b={product is purchased},then P(products added once to the cart are effectively bought)=P(b|a).\n",
    "From the multiplication rule, we can know that P(ab)= P(b|a) * P(a), so P(b|a) = P(ab)/P(a)."
   ]
  },
  {
   "cell_type": "code",
   "execution_count": 9,
   "metadata": {},
   "outputs": [
    {
     "name": "stdout",
     "output_type": "stream",
     "text": [
      "The probability that products added once to the cart are effectively bought is 0.35\n"
     ]
    }
   ],
   "source": [
    "P_a=df[df['event_type']=='cart'].shape[0]\n",
    "#Sum = df.user_session.nunique()\n",
    "CP = pd.DataFrame(df[(df.event_type == 'cart') | (df.event_type == 'purchase')].groupby(['product_id','user_session', 'event_type']).event_type.count()).rename(columns={'event_type':'my_count'}).reset_index()\n",
    "CP = pd.DataFrame(CP.groupby(['product_id','user_session']).user_session.count()).rename(columns={'user_session':'count'}).reset_index()\n",
    "CP = CP[CP['count']==2]\n",
    "P_ab= CP.shape[0]\n",
    "#P_ab = (Pa * P_b_a) / pow(Sum,2)\n",
    "P_ba = round(P_ab / P_a,2) \n",
    "print(\"The probability that products added once to the cart are effectively bought is \" + str(P_ba))"
   ]
  },
  {
   "cell_type": "markdown",
   "metadata": {},
   "source": [
    "### Q1-4 What’s the average time an item stays in the cart before being removed?"
   ]
  },
  {
   "cell_type": "markdown",
   "metadata": {},
   "source": [
    "Because we do not find any removerfromcart operation in the file, we think that goods are removed from the cart means that they are purchased successfully.\n",
    "The average time an item stays in the cart before being removed can be transform to the average time an item stays in the cart before purchased."
   ]
  },
  {
   "cell_type": "code",
   "execution_count": 10,
   "metadata": {},
   "outputs": [
    {
     "name": "stdout",
     "output_type": "stream",
     "text": [
      "The average time an item stays in the cart before being removed is 109.57 seconds.\n"
     ]
    }
   ],
   "source": [
    "cart = df[df['event_type'] == 'cart'].sort_values(by=['event_time']).drop_duplicates(subset = ['user_session'], keep = 'first') \n",
    "remove = df[df['event_type'] == 'purchase'].sort_values(by=['event_time']).drop_duplicates(subset = ['user_session'], keep = 'first') \n",
    "joint = pd.merge(cart, remove[['user_session','event_time']], how='inner', on=['user_session']).dropna()\n",
    "mean_time = (joint.event_time_y - joint.event_time_x).mean()\n",
    "cart_remove_time = pd.Timedelta(mean_time).total_seconds() \n",
    "print(\"The average time an item stays in the cart before being removed is \" +str(round(cart_remove_time,2))+ ' seconds.')"
   ]
  },
  {
   "cell_type": "markdown",
   "metadata": {},
   "source": [
    "### Q1-5 How much time passes on average between the first view time and a purchase/addition to cart?"
   ]
  },
  {
   "cell_type": "code",
   "execution_count": 11,
   "metadata": {},
   "outputs": [
    {
     "name": "stdout",
     "output_type": "stream",
     "text": [
      "The average time between the first view and add to cart is 171.93 seconds.\n"
     ]
    }
   ],
   "source": [
    "view = df[df['event_type'] == 'view'].sort_values(by=['event_time']).drop_duplicates(subset = ['user_session'], keep = 'first') \n",
    "cart = df[df['event_type'] == 'cart'].sort_values(by=['event_time']).drop_duplicates(subset = ['user_session'], keep = 'first') \n",
    "joint = pd.merge(view, cart[['user_session','event_time']], how='inner', on=['user_session']).dropna()\n",
    "mean_time = (joint.event_time_y - joint.event_time_x).mean()\n",
    "view_cart_time = pd.Timedelta(mean_time).total_seconds()\n",
    "print(\"The average time between the first view and add to cart is \" +str(round(view_cart_time,2))+ ' seconds.')"
   ]
  },
  {
   "cell_type": "code",
   "execution_count": 12,
   "metadata": {},
   "outputs": [
    {
     "name": "stdout",
     "output_type": "stream",
     "text": [
      "The average time between the first view and a purchase is 260.09 seconds.\n"
     ]
    }
   ],
   "source": [
    "view = df[df['event_type'] == 'view'].sort_values(by=['event_time']).drop_duplicates(subset = ['user_session'], keep = 'first') \n",
    "purchase = df[df['event_type'] == 'purchase'].sort_values(by=['event_time']).drop_duplicates(subset = ['user_session'], keep = 'first') \n",
    "joint = pd.merge(view, purchase[['user_session','event_time']], how='inner', on=['user_session']).dropna()\n",
    "mean_time = (joint.event_time_y - joint.event_time_x).mean()\n",
    "view_purchase_time = pd.Timedelta(mean_time).total_seconds()\n",
    "print(\"The average time between the first view and a purchase is \" +str(round(view_purchase_time,2))+ ' seconds.')"
   ]
  },
  {
   "cell_type": "markdown",
   "metadata": {},
   "source": [
    "## Q7 Prove that the pareto principle applies to your store."
   ]
  },
  {
   "cell_type": "markdown",
   "metadata": {},
   "source": [
    "The Pareto principle states that for many outcomes roughly 80% of consequences come from 20% of the causes. Also known as 80/20 rule, in e-commerce simply means that most of your business, around 80%, likely comes from about 20% of your customers."
   ]
  },
  {
   "cell_type": "code",
   "execution_count": 13,
   "metadata": {},
   "outputs": [
    {
     "name": "stdout",
     "output_type": "stream",
     "text": [
      "my_count\n",
      "1     843\n",
      "2      37\n",
      "3       8\n",
      "5       1\n",
      "6       1\n",
      "7       1\n",
      "22      1\n",
      "Name: my_count, dtype: int64\n",
      "Business numbers:784.8000000000001\n",
      "Customers who purchased:160.8\n"
     ]
    }
   ],
   "source": [
    "business = df[df['event_type'] == 'purchase'].event_type.count()\n",
    "customers = df[df['event_type'] == 'purchase'].user_id.nunique()\n",
    "#all_customers = df.user_id.nunique()\n",
    "\n",
    "BC= pd.DataFrame(df[df.event_type == 'purchase'].groupby(['product_id','event_type','user_id']).user_id.count()).rename(columns={'user_id':'my_count'}).reset_index().groupby('my_count').my_count.count()\n",
    "print(BC)\n",
    "print(\"Business numbers:\"+str(business*0.8))\n",
    "print(\"Customers who purchased:\"+str(customers*0.2))\n"
   ]
  },
  {
   "cell_type": "code",
   "execution_count": null,
   "metadata": {},
   "outputs": [],
   "source": []
  },
  {
   "cell_type": "code",
   "execution_count": null,
   "metadata": {},
   "outputs": [],
   "source": []
  },
  {
   "cell_type": "code",
   "execution_count": null,
   "metadata": {},
   "outputs": [],
   "source": []
  }
 ],
 "metadata": {
  "kernelspec": {
   "display_name": "Python 3",
   "language": "python",
   "name": "python3"
  },
  "language_info": {
   "codemirror_mode": {
    "name": "ipython",
    "version": 3
   },
   "file_extension": ".py",
   "mimetype": "text/x-python",
   "name": "python",
   "nbconvert_exporter": "python",
   "pygments_lexer": "ipython3",
   "version": "3.8.5"
  }
 },
 "nbformat": 4,
 "nbformat_minor": 4
}
