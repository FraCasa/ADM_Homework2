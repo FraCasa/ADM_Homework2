{
 "cells": [
  {
   "cell_type": "markdown",
   "metadata": {},
   "source": [
    " # Homework 2 - eCommerce analytics"
   ]
  },
  {
   "cell_type": "markdown",
   "metadata": {},
   "source": [
    "## Liabraries"
   ]
  },
  {
   "cell_type": "code",
   "execution_count": 1,
   "metadata": {
    "ExecuteTime": {
     "end_time": "2020-11-14T13:55:14.040996Z",
     "start_time": "2020-11-14T13:55:12.586001Z"
    }
   },
   "outputs": [],
   "source": [
    "import numpy as np\n",
    "import pandas as pd\n",
    "import matplotlib.pyplot as plt\n",
    "import math\n",
    "import gc"
   ]
  },
  {
   "cell_type": "markdown",
   "metadata": {},
   "source": [
    "## Load Datasets"
   ]
  },
  {
   "cell_type": "code",
   "execution_count": 2,
   "metadata": {
    "ExecuteTime": {
     "end_time": "2020-11-14T14:12:18.413822Z",
     "start_time": "2020-11-14T13:55:14.046997Z"
    }
   },
   "outputs": [],
   "source": [
    "oct19= pd.read_csv('2019-Oct.csv',\n",
    "                      parse_dates=['event_time'],\n",
    "                      date_parser=pd.to_datetime)\n",
    "nov19=pd.read_csv('2019-Nov.csv',\n",
    "                      parse_dates=['event_time'],\n",
    "                      date_parser=pd.to_datetime)"
   ]
  },
  {
   "cell_type": "code",
   "execution_count": 3,
   "metadata": {
    "ExecuteTime": {
     "end_time": "2020-11-14T14:13:15.772332Z",
     "start_time": "2020-11-14T14:12:18.422729Z"
    }
   },
   "outputs": [],
   "source": [
    "frame = [oct19,nov19]\n",
    "df = pd.concat(frame)"
   ]
  },
  {
   "cell_type": "markdown",
   "metadata": {},
   "source": [
    "## Before Starting\n",
    "Before starting to solve questions, we should to see the datatype of each column of our dataset."
   ]
  },
  {
   "cell_type": "markdown",
   "metadata": {},
   "source": [
    "**Show the top 5 rows**"
   ]
  },
  {
   "cell_type": "code",
   "execution_count": 4,
   "metadata": {
    "ExecuteTime": {
     "end_time": "2020-11-14T14:13:16.011578Z",
     "start_time": "2020-11-14T14:13:15.790327Z"
    }
   },
   "outputs": [
    {
     "name": "stdout",
     "output_type": "stream",
     "text": [
      "(109950743, 9)\n"
     ]
    },
    {
     "data": {
      "text/html": [
       "<div>\n",
       "<style scoped>\n",
       "    .dataframe tbody tr th:only-of-type {\n",
       "        vertical-align: middle;\n",
       "    }\n",
       "\n",
       "    .dataframe tbody tr th {\n",
       "        vertical-align: top;\n",
       "    }\n",
       "\n",
       "    .dataframe thead th {\n",
       "        text-align: right;\n",
       "    }\n",
       "</style>\n",
       "<table border=\"1\" class=\"dataframe\">\n",
       "  <thead>\n",
       "    <tr style=\"text-align: right;\">\n",
       "      <th></th>\n",
       "      <th>event_time</th>\n",
       "      <th>event_type</th>\n",
       "      <th>product_id</th>\n",
       "      <th>category_id</th>\n",
       "      <th>category_code</th>\n",
       "      <th>brand</th>\n",
       "      <th>price</th>\n",
       "      <th>user_id</th>\n",
       "      <th>user_session</th>\n",
       "    </tr>\n",
       "  </thead>\n",
       "  <tbody>\n",
       "    <tr>\n",
       "      <th>0</th>\n",
       "      <td>2019-10-01 00:00:00+00:00</td>\n",
       "      <td>view</td>\n",
       "      <td>44600062</td>\n",
       "      <td>2103807459595387724</td>\n",
       "      <td>NaN</td>\n",
       "      <td>shiseido</td>\n",
       "      <td>35.79</td>\n",
       "      <td>541312140</td>\n",
       "      <td>72d76fde-8bb3-4e00-8c23-a032dfed738c</td>\n",
       "    </tr>\n",
       "    <tr>\n",
       "      <th>1</th>\n",
       "      <td>2019-10-01 00:00:00+00:00</td>\n",
       "      <td>view</td>\n",
       "      <td>3900821</td>\n",
       "      <td>2053013552326770905</td>\n",
       "      <td>appliances.environment.water_heater</td>\n",
       "      <td>aqua</td>\n",
       "      <td>33.20</td>\n",
       "      <td>554748717</td>\n",
       "      <td>9333dfbd-b87a-4708-9857-6336556b0fcc</td>\n",
       "    </tr>\n",
       "    <tr>\n",
       "      <th>2</th>\n",
       "      <td>2019-10-01 00:00:01+00:00</td>\n",
       "      <td>view</td>\n",
       "      <td>17200506</td>\n",
       "      <td>2053013559792632471</td>\n",
       "      <td>furniture.living_room.sofa</td>\n",
       "      <td>NaN</td>\n",
       "      <td>543.10</td>\n",
       "      <td>519107250</td>\n",
       "      <td>566511c2-e2e3-422b-b695-cf8e6e792ca8</td>\n",
       "    </tr>\n",
       "    <tr>\n",
       "      <th>3</th>\n",
       "      <td>2019-10-01 00:00:01+00:00</td>\n",
       "      <td>view</td>\n",
       "      <td>1307067</td>\n",
       "      <td>2053013558920217191</td>\n",
       "      <td>computers.notebook</td>\n",
       "      <td>lenovo</td>\n",
       "      <td>251.74</td>\n",
       "      <td>550050854</td>\n",
       "      <td>7c90fc70-0e80-4590-96f3-13c02c18c713</td>\n",
       "    </tr>\n",
       "    <tr>\n",
       "      <th>4</th>\n",
       "      <td>2019-10-01 00:00:04+00:00</td>\n",
       "      <td>view</td>\n",
       "      <td>1004237</td>\n",
       "      <td>2053013555631882655</td>\n",
       "      <td>electronics.smartphone</td>\n",
       "      <td>apple</td>\n",
       "      <td>1081.98</td>\n",
       "      <td>535871217</td>\n",
       "      <td>c6bd7419-2748-4c56-95b4-8cec9ff8b80d</td>\n",
       "    </tr>\n",
       "  </tbody>\n",
       "</table>\n",
       "</div>"
      ],
      "text/plain": [
       "                 event_time event_type  product_id          category_id  \\\n",
       "0 2019-10-01 00:00:00+00:00       view    44600062  2103807459595387724   \n",
       "1 2019-10-01 00:00:00+00:00       view     3900821  2053013552326770905   \n",
       "2 2019-10-01 00:00:01+00:00       view    17200506  2053013559792632471   \n",
       "3 2019-10-01 00:00:01+00:00       view     1307067  2053013558920217191   \n",
       "4 2019-10-01 00:00:04+00:00       view     1004237  2053013555631882655   \n",
       "\n",
       "                         category_code     brand    price    user_id  \\\n",
       "0                                  NaN  shiseido    35.79  541312140   \n",
       "1  appliances.environment.water_heater      aqua    33.20  554748717   \n",
       "2           furniture.living_room.sofa       NaN   543.10  519107250   \n",
       "3                   computers.notebook    lenovo   251.74  550050854   \n",
       "4               electronics.smartphone     apple  1081.98  535871217   \n",
       "\n",
       "                           user_session  \n",
       "0  72d76fde-8bb3-4e00-8c23-a032dfed738c  \n",
       "1  9333dfbd-b87a-4708-9857-6336556b0fcc  \n",
       "2  566511c2-e2e3-422b-b695-cf8e6e792ca8  \n",
       "3  7c90fc70-0e80-4590-96f3-13c02c18c713  \n",
       "4  c6bd7419-2748-4c56-95b4-8cec9ff8b80d  "
      ]
     },
     "execution_count": 4,
     "metadata": {},
     "output_type": "execute_result"
    }
   ],
   "source": [
    "print(df.shape) \n",
    "df.head(5)"
   ]
  },
  {
   "cell_type": "markdown",
   "metadata": {},
   "source": [
    "**Show the bottom 5 rows**"
   ]
  },
  {
   "cell_type": "code",
   "execution_count": 5,
   "metadata": {
    "ExecuteTime": {
     "end_time": "2020-11-14T14:13:16.111599Z",
     "start_time": "2020-11-14T14:13:16.015576Z"
    }
   },
   "outputs": [
    {
     "data": {
      "text/html": [
       "<div>\n",
       "<style scoped>\n",
       "    .dataframe tbody tr th:only-of-type {\n",
       "        vertical-align: middle;\n",
       "    }\n",
       "\n",
       "    .dataframe tbody tr th {\n",
       "        vertical-align: top;\n",
       "    }\n",
       "\n",
       "    .dataframe thead th {\n",
       "        text-align: right;\n",
       "    }\n",
       "</style>\n",
       "<table border=\"1\" class=\"dataframe\">\n",
       "  <thead>\n",
       "    <tr style=\"text-align: right;\">\n",
       "      <th></th>\n",
       "      <th>event_time</th>\n",
       "      <th>event_type</th>\n",
       "      <th>product_id</th>\n",
       "      <th>category_id</th>\n",
       "      <th>category_code</th>\n",
       "      <th>brand</th>\n",
       "      <th>price</th>\n",
       "      <th>user_id</th>\n",
       "      <th>user_session</th>\n",
       "    </tr>\n",
       "  </thead>\n",
       "  <tbody>\n",
       "    <tr>\n",
       "      <th>67501974</th>\n",
       "      <td>2019-11-30 23:59:58+00:00</td>\n",
       "      <td>view</td>\n",
       "      <td>15700137</td>\n",
       "      <td>2053013559733912211</td>\n",
       "      <td>NaN</td>\n",
       "      <td>NaN</td>\n",
       "      <td>277.74</td>\n",
       "      <td>532714000</td>\n",
       "      <td>02b4131c-0112-4231-aafa-ceaa08e77c1b</td>\n",
       "    </tr>\n",
       "    <tr>\n",
       "      <th>67501975</th>\n",
       "      <td>2019-11-30 23:59:58+00:00</td>\n",
       "      <td>view</td>\n",
       "      <td>28719425</td>\n",
       "      <td>2053013565639492569</td>\n",
       "      <td>apparel.shoes</td>\n",
       "      <td>baden</td>\n",
       "      <td>62.81</td>\n",
       "      <td>545223467</td>\n",
       "      <td>734c5eef-0742-4f8b-9d22-48f75b0bc359</td>\n",
       "    </tr>\n",
       "    <tr>\n",
       "      <th>67501976</th>\n",
       "      <td>2019-11-30 23:59:59+00:00</td>\n",
       "      <td>view</td>\n",
       "      <td>1004833</td>\n",
       "      <td>2053013555631882655</td>\n",
       "      <td>electronics.smartphone</td>\n",
       "      <td>samsung</td>\n",
       "      <td>167.03</td>\n",
       "      <td>557794415</td>\n",
       "      <td>6fecf566-ebb0-4e70-a243-cdc13ce044cb</td>\n",
       "    </tr>\n",
       "    <tr>\n",
       "      <th>67501977</th>\n",
       "      <td>2019-11-30 23:59:59+00:00</td>\n",
       "      <td>view</td>\n",
       "      <td>2701706</td>\n",
       "      <td>2053013563911439225</td>\n",
       "      <td>appliances.kitchen.refrigerators</td>\n",
       "      <td>samsung</td>\n",
       "      <td>566.27</td>\n",
       "      <td>531607492</td>\n",
       "      <td>368ddc8b-5db9-40fb-b7ff-b6582a1192c0</td>\n",
       "    </tr>\n",
       "    <tr>\n",
       "      <th>67501978</th>\n",
       "      <td>2019-11-30 23:59:59+00:00</td>\n",
       "      <td>view</td>\n",
       "      <td>1004233</td>\n",
       "      <td>2053013555631882655</td>\n",
       "      <td>electronics.smartphone</td>\n",
       "      <td>apple</td>\n",
       "      <td>1312.52</td>\n",
       "      <td>579969851</td>\n",
       "      <td>90aca71c-ed8a-4670-866a-761ebacb732d</td>\n",
       "    </tr>\n",
       "  </tbody>\n",
       "</table>\n",
       "</div>"
      ],
      "text/plain": [
       "                        event_time event_type  product_id  \\\n",
       "67501974 2019-11-30 23:59:58+00:00       view    15700137   \n",
       "67501975 2019-11-30 23:59:58+00:00       view    28719425   \n",
       "67501976 2019-11-30 23:59:59+00:00       view     1004833   \n",
       "67501977 2019-11-30 23:59:59+00:00       view     2701706   \n",
       "67501978 2019-11-30 23:59:59+00:00       view     1004233   \n",
       "\n",
       "                  category_id                     category_code    brand  \\\n",
       "67501974  2053013559733912211                               NaN      NaN   \n",
       "67501975  2053013565639492569                     apparel.shoes    baden   \n",
       "67501976  2053013555631882655            electronics.smartphone  samsung   \n",
       "67501977  2053013563911439225  appliances.kitchen.refrigerators  samsung   \n",
       "67501978  2053013555631882655            electronics.smartphone    apple   \n",
       "\n",
       "            price    user_id                          user_session  \n",
       "67501974   277.74  532714000  02b4131c-0112-4231-aafa-ceaa08e77c1b  \n",
       "67501975    62.81  545223467  734c5eef-0742-4f8b-9d22-48f75b0bc359  \n",
       "67501976   167.03  557794415  6fecf566-ebb0-4e70-a243-cdc13ce044cb  \n",
       "67501977   566.27  531607492  368ddc8b-5db9-40fb-b7ff-b6582a1192c0  \n",
       "67501978  1312.52  579969851  90aca71c-ed8a-4670-866a-761ebacb732d  "
      ]
     },
     "execution_count": 5,
     "metadata": {},
     "output_type": "execute_result"
    }
   ],
   "source": [
    "df.tail(5)"
   ]
  },
  {
   "cell_type": "markdown",
   "metadata": {},
   "source": [
    "## Q1 Suppose your funnel involves just three simple steps: 1) view, 2) cart, 3) purchase. Which is the rate of complete funnels?"
   ]
  },
  {
   "cell_type": "markdown",
   "metadata": {},
   "source": [
    "For this problem, we should calculate all the rows that its event_type in a user_session equals to three,and this value（write as Th） is the total numbers of complete funnels. The total numbers of distinct user_session is written as Total. So the rate euqals to Th/Total."
   ]
  },
  {
   "cell_type": "code",
   "execution_count": 6,
   "metadata": {
    "ExecuteTime": {
     "end_time": "2020-11-14T14:24:28.336074Z",
     "start_time": "2020-11-14T14:13:16.114578Z"
    }
   },
   "outputs": [
    {
     "name": "stdout",
     "output_type": "stream",
     "text": [
      "The rate of complete funnels is 1.45%.\n"
     ]
    }
   ],
   "source": [
    "CF =pd.DataFrame( df.groupby(['product_id','user_session','event_type']).event_type.count()).rename(columns={'event_type':'count'}).reset_index()\n",
    "#rename()-> Alter axes labels.\n",
    "#reset_index()->Reset the index of the DataFrame, and use the default one instead. \n",
    "CF = pd.DataFrame(CF.groupby(['product_id','user_session']).user_session.count()).rename(columns={'user_session':'count'}).reset_index()\n",
    "Total= CF.shape[0]\n",
    "Th = CF[CF['count']==3].shape[0]\n",
    "CFR = round(Th*100 / Total,2)\n",
    "print(\"The rate of complete funnels is \"+str(CFR)+'%.')\n"
   ]
  },
  {
   "cell_type": "code",
   "execution_count": 7,
   "metadata": {
    "ExecuteTime": {
     "end_time": "2020-11-14T14:24:28.692557Z",
     "start_time": "2020-11-14T14:24:28.344244Z"
    }
   },
   "outputs": [
    {
     "data": {
      "text/plain": [
       "20"
      ]
     },
     "execution_count": 7,
     "metadata": {},
     "output_type": "execute_result"
    }
   ],
   "source": [
    "gc.collect()"
   ]
  },
  {
   "cell_type": "markdown",
   "metadata": {},
   "source": [
    "### Q1-1 What's the operation users repeat more on average within a session? Produce a plot that shows the average number of times users perform each operation (view/removefromchart etc etc)."
   ]
  },
  {
   "cell_type": "markdown",
   "metadata": {},
   "source": [
    "For this question, we calculate the total number of different operations and the total number of unique user sessions. Then we can calculate and compare the average number of times user perform each operation."
   ]
  },
  {
   "cell_type": "code",
   "execution_count": 24,
   "metadata": {
    "ExecuteTime": {
     "end_time": "2020-11-14T15:25:03.000685Z",
     "start_time": "2020-11-14T15:24:06.890718Z"
    }
   },
   "outputs": [
    {
     "data": {
      "image/png": "[encoded data removed]",
      "text/plain": [
       "<Figure size 432x288 with 1 Axes>"
      ]
     },
     "metadata": {
      "needs_background": "light"
     },
     "output_type": "display_data"
    },
    {
     "name": "stdout",
     "output_type": "stream",
     "text": [
      "The most common operation:view\n"
     ]
    }
   ],
   "source": [
    "'''\n",
    "Calculate all the times of diffenrent operations AP\n",
    "'''\n",
    "AP = df.groupby('event_type').event_type.count()\n",
    "#print(AP)\n",
    "# nunique()-> Return number of unique elements in the object.\n",
    "# unique()-> Return the value of unique elements in the object.\n",
    "'''\n",
    "Calculate the average number of times users perform each operation AVAP\n",
    "'''\n",
    "AVAP = AP.to_numpy() / df.user_session.nunique()\n",
    "#print(df.user_session.nunique())\n",
    "'''\n",
    "Sort the event_type by the number of  different operations ET\n",
    "'''\n",
    "ET = sorted(df.event_type.unique())\n",
    "plt.xlabel('Operation')\n",
    "plt.ylabel('Average Number')\n",
    "plt.plot(ET, AVAP, color='m', linestyle='dashed',  marker='D')\n",
    "plt.show()\n",
    "\n",
    "print(\"The most common operation:\"+str(ET[-1]))\n"
   ]
  },
  {
   "cell_type": "code",
   "execution_count": 9,
   "metadata": {
    "ExecuteTime": {
     "end_time": "2020-11-14T14:25:26.549146Z",
     "start_time": "2020-11-14T14:25:26.505167Z"
    }
   },
   "outputs": [
    {
     "data": {
      "text/plain": [
       "2045"
      ]
     },
     "execution_count": 9,
     "metadata": {},
     "output_type": "execute_result"
    }
   ],
   "source": [
    "gc.collect()"
   ]
  },
  {
   "cell_type": "markdown",
   "metadata": {},
   "source": [
    "### Q1-2 How many times, on average, a user views a product before adding it to the cart?"
   ]
  },
  {
   "cell_type": "code",
   "execution_count": 10,
   "metadata": {
    "ExecuteTime": {
     "end_time": "2020-11-14T14:37:33.378384Z",
     "start_time": "2020-11-14T14:25:26.551143Z"
    }
   },
   "outputs": [
    {
     "name": "stdout",
     "output_type": "stream",
     "text": [
      "The average times that users view a product before purchase is 1.5\n"
     ]
    }
   ],
   "source": [
    "\n",
    "VCT= pd.DataFrame(df[(df.event_type == 'view') | (df.event_type == 'cart')].groupby(['product_id','user_session', 'event_type']).event_type.count()).rename(columns={'event_type':'my_count'}).reset_index()\n",
    "VC = pd.DataFrame(VCT.groupby(['product_id','user_session']).user_session.count()).rename(columns={'user_session':'count'}).reset_index()\n",
    "VC = VC[VC['count'] == 2]\n",
    "VC = pd.merge(VCT,VC[['product_id','user_session']], how='inner', on=['product_id','user_session'])\n",
    "MT= VCT[VCT['event_type'] == 'view'].my_count.mean()\n",
    "print(\"The average times that users view a product before purchase is \"+str(round(MT,2)))\n"
   ]
  },
  {
   "cell_type": "code",
   "execution_count": 11,
   "metadata": {
    "ExecuteTime": {
     "end_time": "2020-11-14T14:37:33.552394Z",
     "start_time": "2020-11-14T14:37:33.387385Z"
    }
   },
   "outputs": [
    {
     "data": {
      "text/plain": [
       "20"
      ]
     },
     "execution_count": 11,
     "metadata": {},
     "output_type": "execute_result"
    }
   ],
   "source": [
    "gc.collect()"
   ]
  },
  {
   "cell_type": "markdown",
   "metadata": {},
   "source": [
    "### Q1-3 What's the probability that products added once to the cart are effectively bought?"
   ]
  },
  {
   "cell_type": "markdown",
   "metadata": {},
   "source": [
    "Let a={product is added once to the cart},b={product is purchased},then P(products added once to the cart are effectively bought)=P(b|a).\n",
    "From the multiplication rule, we can know that P(ab)= P(b|a) * P(a), so P(b|a) = P(ab)/P(a)."
   ]
  },
  {
   "cell_type": "code",
   "execution_count": 12,
   "metadata": {
    "ExecuteTime": {
     "end_time": "2020-11-14T14:39:12.322439Z",
     "start_time": "2020-11-14T14:37:33.556393Z"
    }
   },
   "outputs": [
    {
     "name": "stdout",
     "output_type": "stream",
     "text": [
      "The probability that products added once to the cart are effectively bought is 0.26\n"
     ]
    }
   ],
   "source": [
    "P_a=df[df['event_type']=='cart'].shape[0]\n",
    "#Sum = df.user_session.nunique()\n",
    "CP = pd.DataFrame(df[(df.event_type == 'cart') | (df.event_type == 'purchase')].groupby(['product_id','user_session', 'event_type']).event_type.count()).rename(columns={'event_type':'my_count'}).reset_index()\n",
    "CP = pd.DataFrame(CP.groupby(['product_id','user_session']).user_session.count()).rename(columns={'user_session':'count'}).reset_index()\n",
    "CP = CP[CP['count']==2]\n",
    "P_ab= CP.shape[0]\n",
    "#P_ab = (Pa * P_b_a) / pow(Sum,2)\n",
    "P_ba = round(P_ab / P_a,2) \n",
    "print(\"The probability that products added once to the cart are effectively bought is \" + str(P_ba))"
   ]
  },
  {
   "cell_type": "code",
   "execution_count": 13,
   "metadata": {
    "ExecuteTime": {
     "end_time": "2020-11-14T14:39:12.448454Z",
     "start_time": "2020-11-14T14:39:12.328439Z"
    }
   },
   "outputs": [
    {
     "data": {
      "text/plain": [
       "20"
      ]
     },
     "execution_count": 13,
     "metadata": {},
     "output_type": "execute_result"
    }
   ],
   "source": [
    "gc.collect()"
   ]
  },
  {
   "cell_type": "markdown",
   "metadata": {},
   "source": [
    "### Q1-4 What's the average time an item stays in the cart before being removed?"
   ]
  },
  {
   "cell_type": "markdown",
   "metadata": {},
   "source": [
    "Because we do not find any removerfromcart operation in the file, we think that goods are removed from the cart means that they are purchased successfully.\n",
    "The average time an item stays in the cart before being removed can be transform to the average time an item stays in the cart before purchased."
   ]
  },
  {
   "cell_type": "code",
   "execution_count": 34,
   "metadata": {
    "ExecuteTime": {
     "end_time": "2020-11-14T15:46:02.096164Z",
     "start_time": "2020-11-14T15:45:40.873161Z"
    }
   },
   "outputs": [
    {
     "name": "stdout",
     "output_type": "stream",
     "text": [
      "The average time an item stays in the cart before being removed is 162.05 seconds.\n"
     ]
    }
   ],
   "source": [
    "#DataFrame.drop_duplicates(subset=None, keep='first', inplace=False)\n",
    "#pd.dropna()Filter out missing data\n",
    "'''\n",
    "pd.merge(left, right, how='inner', on=None, left_on=None, right_on=None,\n",
    "         left_index=False, right_index=False, sort=True,\n",
    "         suffixes=('_x', '_y'), copy=True, indicator=False,\n",
    "         validate=None)\n",
    "'''\n",
    "#find all the cart/purchase operation and its event time, then keep the first occured repeat sessions and remove others\n",
    "cart = df[df['event_type'] == 'cart'].sort_values(by=['event_time']).drop_duplicates(subset = ['user_session'], keep = 'first') \n",
    "remove = df[df['event_type'] == 'purchase'].sort_values(by=['event_time']).drop_duplicates(subset = ['user_session'], keep = 'first') \n",
    "#calculate the intersection of purchase and cart within a user session and delete the missing value \n",
    "#such as no cart operation or no purchase operation within a user session then it would be filtered out\n",
    "result = pd.merge(cart, remove[['user_session','event_time']], how='inner', on=['user_session']).dropna()\n",
    "#calculate the mean time between cart view and first purchase\n",
    "mean_time = (result.event_time_y - result.event_time_x).mean()\n",
    "cart_remove_time = pd.Timedelta(mean_time).total_seconds() \n",
    "print(\"The average time an item stays in the cart before being removed is \" +str(round(cart_remove_time,2))+ ' seconds.')"
   ]
  },
  {
   "cell_type": "code",
   "execution_count": 15,
   "metadata": {
    "ExecuteTime": {
     "end_time": "2020-11-14T14:39:32.272379Z",
     "start_time": "2020-11-14T14:39:32.233386Z"
    }
   },
   "outputs": [
    {
     "data": {
      "text/plain": [
       "20"
      ]
     },
     "execution_count": 15,
     "metadata": {},
     "output_type": "execute_result"
    }
   ],
   "source": [
    "gc.collect()"
   ]
  },
  {
   "cell_type": "markdown",
   "metadata": {},
   "source": [
    "### Q1-5 How much time passes on average between the first view time and a purchase/addition to cart?"
   ]
  },
  {
   "cell_type": "code",
   "execution_count": 36,
   "metadata": {
    "ExecuteTime": {
     "end_time": "2020-11-14T15:58:12.326599Z",
     "start_time": "2020-11-14T15:52:19.907208Z"
    }
   },
   "outputs": [
    {
     "name": "stdout",
     "output_type": "stream",
     "text": [
      "The average time between the first view and add to cart is 350.25 seconds.\n"
     ]
    }
   ],
   "source": [
    "#find all the view/cart operation and its event time, then keep the first occured repeat sessions and remove others\n",
    "view = df[df['event_type'] == 'view'].sort_values(by=['event_time']).drop_duplicates(subset = ['user_session'], keep = 'first') \n",
    "cart = df[df['event_type'] == 'cart'].sort_values(by=['event_time']).drop_duplicates(subset = ['user_session'], keep = 'first') \n",
    "#calculate the intersection of view and cart within a user session and delete the missing value \n",
    "#such as no cart operation or no view operation within a user session then it would be filtered out\n",
    "result = pd.merge(view, cart[['user_session','event_time']], how='inner', on=['user_session']).dropna()\n",
    "#calculate the mean time between first view and first cart\n",
    "mean_time = (result.event_time_y - result.event_time_x).mean()\n",
    "view_cart_time = pd.Timedelta(mean_time).total_seconds()\n",
    "print(\"The average time between the first view and add to cart is \" +str(round(view_cart_time,2))+ ' seconds.')"
   ]
  },
  {
   "cell_type": "code",
   "execution_count": 37,
   "metadata": {
    "ExecuteTime": {
     "end_time": "2020-11-14T16:03:35.772645Z",
     "start_time": "2020-11-14T15:58:12.338554Z"
    }
   },
   "outputs": [
    {
     "name": "stdout",
     "output_type": "stream",
     "text": [
      "The average time between the first view and a purchase is 422.75 seconds.\n"
     ]
    }
   ],
   "source": [
    "#find all the view/purchase operation and its event time, then keep the first occured repeat sessions and remove others\n",
    "view = df[df['event_type'] == 'view'].sort_values(by=['event_time']).drop_duplicates(subset = ['user_session'], keep = 'first') \n",
    "purchase = df[df['event_type'] == 'purchase'].sort_values(by=['event_time']).drop_duplicates(subset = ['user_session'], keep = 'first') \n",
    "#calculate the intersection of view and purchase within a user session and delete the missing value \n",
    "#such as no purchase operation or no view operation within a user session then it would be filtered out\n",
    "result = pd.merge(view, purchase[['user_session','event_time']], how='inner', on=['user_session']).dropna()\n",
    "#calculate the mean time between first view and first purchase \n",
    "mean_time = (result.event_time_y - result.event_time_x).mean()\n",
    "view_purchase_time = pd.Timedelta(mean_time).total_seconds()\n",
    "print(\"The average time between the first view and a purchase is \" +str(round(view_purchase_time,2))+ ' seconds.')"
   ]
  },
  {
   "cell_type": "code",
   "execution_count": 18,
   "metadata": {
    "ExecuteTime": {
     "end_time": "2020-11-14T14:51:11.446320Z",
     "start_time": "2020-11-14T14:51:11.147317Z"
    }
   },
   "outputs": [
    {
     "data": {
      "text/plain": [
       "40"
      ]
     },
     "execution_count": 18,
     "metadata": {},
     "output_type": "execute_result"
    }
   ],
   "source": [
    "gc.collect()"
   ]
  },
  {
   "cell_type": "markdown",
   "metadata": {},
   "source": [
    "## Q7 Prove that the pareto principle applies to your store."
   ]
  },
  {
   "cell_type": "markdown",
   "metadata": {},
   "source": [
    "The Pareto principle states that for many outcomes roughly 80% of consequences come from 20% of the causes. Also known as 80/20 rule, in e-commerce simply means that most of your business, around 80%, likely comes from about 20% of your customers."
   ]
  },
  {
   "cell_type": "markdown",
   "metadata": {},
   "source": [
    "For prvove the Pareto principle, we just have to confirm that the head 20 percent of customers who have purchased goods in our store took up the 80 percent turnovers of our store."
   ]
  },
  {
   "cell_type": "code",
   "execution_count": 31,
   "metadata": {
    "ExecuteTime": {
     "end_time": "2020-11-14T15:36:39.522749Z",
     "start_time": "2020-11-14T15:36:33.753766Z"
    }
   },
   "outputs": [
    {
     "name": "stdout",
     "output_type": "stream",
     "text": [
      "The head 20% custommers' purchasing power took up about 72.1% of the businesses.\n"
     ]
    }
   ],
   "source": [
    "\n",
    "#BC= pd.DataFrame(df[df.event_type == 'purchase'].groupby(['product_id','event_type','user_id']).user_id.count()).rename(columns={'user_id':'my_count'}).reset_index().groupby('my_count').my_count.count()\n",
    "BCM = pd.DataFrame(df[df.event_type == 'purchase'].groupby(['user_id']).price.sum()).rename(columns={'price':'total_count'}).reset_index()\n",
    "BCM = pd.DataFrame(BCM).sort_values(by=['total_count'],ascending=0)\n",
    "customers_twper = math.ceil(0.2 * BCM.shape[0])\n",
    "business = BCM.head(customers_twper).total_count.sum() / BCM.total_count.sum()\n",
    "print(\"The head 20% custommers' purchasing power took up about \"+str(round(business*100,2))+'% of the businesses.')"
   ]
  },
  {
   "cell_type": "markdown",
   "metadata": {},
   "source": [
    "From the result, we can see that about 72.1 percent of turnovers came from the head 20% of customers. Actually, the ration(2:7.21) is close to 2:8, so it shown that the Pareto principle states can be applied with the business in our store."
   ]
  },
  {
   "cell_type": "code",
   "execution_count": null,
   "metadata": {},
   "outputs": [],
   "source": []
  },
  {
   "cell_type": "code",
   "execution_count": null,
   "metadata": {},
   "outputs": [],
   "source": []
  },
  {
   "cell_type": "code",
   "execution_count": null,
   "metadata": {},
   "outputs": [],
   "source": []
  }
 ],
 "metadata": {
  "kernelspec": {
   "display_name": "Python 3",
   "language": "python",
   "name": "python3"
  },
  "language_info": {
   "codemirror_mode": {
    "name": "ipython",
    "version": 3
   },
   "file_extension": ".py",
   "mimetype": "text/x-python",
   "name": "python",
   "nbconvert_exporter": "python",
   "pygments_lexer": "ipython3",
   "version": "3.8.3"
  }
 },
 "nbformat": 4,
 "nbformat_minor": 4
}
