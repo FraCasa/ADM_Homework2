{
 "cells": [
  {
   "cell_type": "markdown",
   "metadata": {},
   "source": [
    "# Import libraries"
   ]
  },
  {
   "cell_type": "code",
   "execution_count": 3,
   "metadata": {},
   "outputs": [],
   "source": [
    "import pandas as pd\n",
    "import numpy as np\n",
    "from datetime import datetime\n",
    "import calendar\n",
    "import json\n",
    "import matplotlib.pyplot  as plt\n",
    "from collections import OrderedDict\n",
    "\n"
   ]
  },
  {
   "cell_type": "markdown",
   "metadata": {},
   "source": [
    "# Load csv files\n"
   ]
  },
  {
   "cell_type": "code",
   "execution_count": 4,
   "metadata": {},
   "outputs": [],
   "source": [
    "#first dataset\n",
    "datasetO = pd.read_csv('E:/Master-Data Science/2019-Oct.csv')"
   ]
  },
  {
   "cell_type": "code",
   "execution_count": 5,
   "metadata": {},
   "outputs": [],
   "source": [
    "#second dataset\n",
    "datasetN = pd.read_csv('E:/Master-Data Science/2019-Nov.csv')"
   ]
  },
  {
   "cell_type": "code",
   "execution_count": 4,
   "metadata": {},
   "outputs": [],
   "source": [
    "# Define Files to be Read\n",
    "files = ['E:/Master-Data Science/2019-Oct.csv',\n",
    "         'E:/Master-Data Science/2019-Nov.csv']\n",
    "\n",
    "# Define DataFrame Chunk Size\n",
    "#chunksize = 1000000\n",
    "chunksize = 9999999\n"
   ]
  },
  {
   "cell_type": "raw",
   "metadata": {},
   "source": []
  },
  {
   "cell_type": "markdown",
   "metadata": {},
   "source": [
    "# [RQ2] What are the categories of the most trending products overall? \n",
    "\n",
    "## For each month visualize this information through a plot showing the number of sold products per category.\n"
   ]
  },
  {
   "cell_type": "markdown",
   "metadata": {},
   "source": [
    "### Number of sold product per category -month: October"
   ]
  },
  {
   "cell_type": "code",
   "execution_count": 59,
   "metadata": {},
   "outputs": [
    {
     "name": "stdout",
     "output_type": "stream",
     "text": [
      "category_code\n",
      "electronics.smartphone          338018\n",
      "electronics.audio.headphone      30503\n",
      "electronics.video.tv             21565\n",
      "electronics.clocks               17906\n",
      "appliances.kitchen.washer        16148\n",
      "                                 ...  \n",
      "apparel.skirt                        4\n",
      "apparel.shorts                       2\n",
      "apparel.jumper                       2\n",
      "apparel.jacket                       1\n",
      "construction.tools.soldering         1\n",
      "Name: category_code, Length: 121, dtype: int64\n"
     ]
    }
   ],
   "source": [
    "purchases_O = datasetO[datasetO['event_type'] == 'purchase']\n",
    "\n",
    "purchases_category_O = purchases_O[purchases_O.category_code.notnull()]\n",
    "\n",
    "O=purchases_category_O.groupby('category_code').category_code.count()\\\n",
    ".sort_values(ascending=False)\n",
    "\n",
    "print(O)"
   ]
  },
  {
   "cell_type": "code",
   "execution_count": 60,
   "metadata": {},
   "outputs": [
    {
     "name": "stdout",
     "output_type": "stream",
     "text": [
      "('electronics', 423028)\n",
      "('appliances', 74996)\n",
      "('computers', 27855)\n",
      "('auto', 10620)\n",
      "('apparel', 8002)\n",
      "('construction', 7801)\n",
      "('kids', 5482)\n",
      "('furniture', 8301)\n",
      "('accessories', 1587)\n",
      "('sport', 1236)\n",
      "('medicine', 310)\n",
      "('stationery', 134)\n",
      "('country_yard', 72)\n"
     ]
    }
   ],
   "source": [
    "purchase_cat_O={}\n",
    "    \n",
    "for index, row in O.iteritems():\n",
    "    #Extract category, create dict\n",
    "    \n",
    "    c = str(index).split('.')\n",
    "    category = c[0]\n",
    "    \n",
    "    if category not in purchase_cat_O.keys():\n",
    "        purchase_cat_O[category] = int(row)\n",
    "    \n",
    "    else:\n",
    "        purchase_cat_O[category] += int(row)\n",
    "\n",
    "for el in purchase_cat_O.items():\n",
    "    print(el)"
   ]
  },
  {
   "cell_type": "markdown",
   "metadata": {},
   "source": [
    "### Number of sold product per category -month: November"
   ]
  },
  {
   "cell_type": "code",
   "execution_count": 61,
   "metadata": {},
   "outputs": [
    {
     "name": "stdout",
     "output_type": "stream",
     "text": [
      "category_code\n",
      "electronics.smartphone           382647\n",
      "electronics.audio.headphone       40834\n",
      "electronics.video.tv              30274\n",
      "electronics.clocks                23237\n",
      "appliances.kitchen.washer         19772\n",
      "                                  ...  \n",
      "construction.tools.soldering          6\n",
      "country_yard.furniture.hammok         4\n",
      "apparel.shorts                        2\n",
      "appliances.kitchen.fryer              1\n",
      "construction.tools.screw              1\n",
      "Name: category_code, Length: 126, dtype: int64\n"
     ]
    }
   ],
   "source": [
    "purchases_N = datasetN[datasetN['event_type'] == 'purchase']\n",
    "\n",
    "purchases_category_N = purchases_N[purchases_N.category_code.notnull()]\n",
    "\n",
    "N=purchases_category_N.groupby('category_code').category_code.count()\\\n",
    ".sort_values(ascending=False)\n",
    "\n",
    "print(N)"
   ]
  },
  {
   "cell_type": "code",
   "execution_count": 62,
   "metadata": {},
   "outputs": [
    {
     "name": "stdout",
     "output_type": "stream",
     "text": [
      "('electronics', 493639)\n",
      "('appliances', 99026)\n",
      "('computers', 34477)\n",
      "('apparel', 14215)\n",
      "('auto', 10719)\n",
      "('construction', 8699)\n",
      "('furniture', 11542)\n",
      "('kids', 6166)\n",
      "('accessories', 2154)\n",
      "('sport', 1489)\n",
      "('medicine', 344)\n",
      "('stationery', 191)\n",
      "('country_yard', 60)\n"
     ]
    }
   ],
   "source": [
    "purchase_cat_N={}\n",
    "    \n",
    "for index, row in N.iteritems():\n",
    "    #Extract category, create dict\n",
    "    \n",
    "    c = str(index).split('.')\n",
    "    category = c[0]\n",
    "    \n",
    "    if category not in purchase_cat_N.keys():\n",
    "        purchase_cat_N[category] = int(row)\n",
    "    \n",
    "    else:\n",
    "        purchase_cat_N[category] += int(row)\n",
    "\n",
    "for el in purchase_cat_N.items():\n",
    "    print(el)"
   ]
  },
  {
   "cell_type": "markdown",
   "metadata": {},
   "source": [
    "## Plotting results"
   ]
  },
  {
   "cell_type": "code",
   "execution_count": 63,
   "metadata": {},
   "outputs": [
    {
     "data": {
      "image/png": "[encoded data removed]",
      "text/plain": [
       "<Figure size 432x288 with 1 Axes>"
      ]
     },
     "metadata": {
      "needs_background": "light"
     },
     "output_type": "display_data"
    },
    {
     "data": {
      "image/png": "[encoded data removed]",
      "text/plain": [
       "<Figure size 432x288 with 1 Axes>"
      ]
     },
     "metadata": {
      "needs_background": "light"
     },
     "output_type": "display_data"
    }
   ],
   "source": [
    "#October\n",
    "\n",
    "cO=[]\n",
    "vO=[]\n",
    "\n",
    "for k in purchase_cat_O.keys():\n",
    "    cO.append(k)\n",
    "for i in purchase_cat_O.values():\n",
    "    vO.append(i)\n",
    "\n",
    "\n",
    "#November\n",
    "\n",
    "cN=[]\n",
    "vN=[]\n",
    "\n",
    "for k in purchase_cat_N.keys():\n",
    "    cN.append(k)\n",
    "for i in purchase_cat_N.values():\n",
    "    vN.append(i)\n",
    "\n",
    "\n",
    "#Plot1\n",
    "plt.title('October')\n",
    "y_pos = np.arange(len(cO))\n",
    "plt.barh(y_pos, vO, align='center', alpha=1)\n",
    "plt.yticks(y_pos, cO)\n",
    "plt.ylabel('Category')\n",
    "plt.xlabel('Sold products')\n",
    "plt.show()\n",
    "\n",
    "#Plot2\n",
    "\n",
    "plt.title('November')\n",
    "y_pos = np.arange(len(cN))\n",
    "plt.barh(y_pos, vN, align='center', alpha=1)\n",
    "plt.yticks(y_pos, cN)\n",
    "plt.ylabel('Category')\n",
    "plt.xlabel('Sold products')\n",
    "plt.show()\n",
    "\n",
    "\n"
   ]
  },
  {
   "cell_type": "markdown",
   "metadata": {},
   "source": [
    "###  Plot the (5) most visited subcategories "
   ]
  },
  {
   "cell_type": "code",
   "execution_count": 64,
   "metadata": {},
   "outputs": [],
   "source": [
    "#view_d={}\n",
    "import operator \n",
    "\n",
    "def visited_subcategory(data):\n",
    "    \n",
    "    # Filter Data of View Only\n",
    "    view = data[data['event_type'] == 'view']\n",
    "    view_category = view[view.category_code.notnull()]\n",
    "    view_sub=view_category.groupby('category_code').category_code.count()\\\n",
    "    .sort_values(ascending=False)\n",
    "    \n",
    "    \n",
    "    for index, row in view_sub.iteritems():\n",
    "        #Extract category+sub, create dict\n",
    "        c = str(index).split('.')\n",
    "        category = c[0]\n",
    "        product = c[1]\n",
    "        subcategory = category + '.' + product\n",
    "        \n",
    "        if subcategory not in view_d.keys():\n",
    "            view_d[subcategory] = int(row)\n",
    "    \n",
    "        else:\n",
    "            view_d[subcategory] += int(row)\n",
    "\n",
    "            \n",
    "view_d={}           \n",
    "for file in files:\n",
    "    for chunk in pd.read_csv(file, chunksize=chunksize):\n",
    "        visited_subcategory(chunk)\n",
    "        \n",
    "#print(view_d)\n",
    "#d2 = sorted(view_d.items(), key=lambda x: x[-1])\n",
    "#print(d2[-6:-1])      "
   ]
  },
  {
   "cell_type": "code",
   "execution_count": 65,
   "metadata": {},
   "outputs": [
    {
     "data": {
      "text/plain": [
       "[('electronics.smartphone', 25451835),\n",
       " ('appliances.kitchen', 8418017),\n",
       " ('electronics.audio', 3679555),\n",
       " ('apparel.shoes', 3554471),\n",
       " ('electronics.clocks', 3267223)]"
      ]
     },
     "execution_count": 65,
     "metadata": {},
     "output_type": "execute_result"
    }
   ],
   "source": [
    "d2 = sorted(view_d.items(), key=lambda x: x[1], reverse=True)\n",
    "#print(d2)\n",
    "d2[0:5]"
   ]
  },
  {
   "cell_type": "code",
   "execution_count": 66,
   "metadata": {},
   "outputs": [
    {
     "data": {
      "image/png": "[encoded data removed]",
      "text/plain": [
       "<Figure size 432x288 with 1 Axes>"
      ]
     },
     "metadata": {
      "needs_background": "light"
     },
     "output_type": "display_data"
    }
   ],
   "source": [
    "top5 = d2[0:5]\n",
    "\n",
    "x = []\n",
    "y=[]\n",
    "\n",
    "for el in top5:\n",
    "    x.append(el[0])\n",
    "    y.append(el[1])\n",
    "\n",
    "\n",
    "\n",
    "#Plot1\n",
    "plt.title('5 most visited product per category')\n",
    "y_pos = np.arange(len(x))\n",
    "plt.barh(y_pos, y, align='center', alpha=1)\n",
    "plt.yticks(y_pos, x)\n",
    "plt.ylabel('Category')\n",
    "plt.xlabel('Views')\n",
    "plt.show()"
   ]
  },
  {
   "cell_type": "markdown",
   "metadata": {},
   "source": [
    "## What are the 10 most sold products per category?"
   ]
  },
  {
   "cell_type": "code",
   "execution_count": 13,
   "metadata": {},
   "outputs": [
    {
     "name": "stdout",
     "output_type": "stream",
     "text": [
      "electronics:\n",
      "['smartphone', 'headphone', 'clocks', 'telephone', 'tablet', 'tv', 'video', 'acoustic', 'subwoofer', 'piano']\n",
      "computers:\n",
      "['notebook', 'hdd', 'printer', 'memory', 'desktop', 'ebooks', 'monitor', 'videocards', 'cpu', 'cooler']\n",
      "appliances:\n",
      "['washer', 'air_heater', 'vacuum', 'blender', 'meat_grinder', 'refrigerators', 'water_heater', 'hood', 'toster', 'hair_cutter']\n",
      "auto:\n",
      "['videoregister', 'player', 'radar', 'alarm', 'compressor', 'parktronic', 'winch', 'anti_freeze']\n",
      "apparel:\n",
      "['shoes', 'trousers', 'keds', 'slipons', 'underwear', 'tshirt', 'costume', 'moccasins', 'sock', 'scarf']\n",
      "furniture:\n",
      "['cabinet', 'toilet', 'table', 'blanket', 'bed', 'sofa', 'chair', 'pillow', 'bath', 'light']\n",
      "construction:\n",
      "['drill', 'saw', 'light', 'faucet', 'welding', 'generator', 'painting', 'pump', 'soldering', 'screw']\n",
      "accessories:\n",
      "['bag', 'wallet', 'umbrella']\n",
      "stationery:\n",
      "['cartrige']\n",
      "kids:\n",
      "['diapers', 'dolls', 'carriage', 'swing', 'skates', 'toys']\n",
      "medicine:\n",
      "['tonometer']\n",
      "sport:\n",
      "['trainer', 'bicycle', 'snowboard', 'ski', 'tennis']\n",
      "country_yard:\n",
      "['cultivator', 'lawn_mower', 'hammok']\n"
     ]
    }
   ],
   "source": [
    "    \n",
    "def sold_products_per_category(dataset):\n",
    "    purchases = dataset[dataset['event_type'] == 'purchase']\n",
    "\n",
    "    purchases_category = purchases[purchases.category_code.notnull()]\n",
    "\n",
    "    P=purchases_category.groupby('category_code').category_code.count()\\\n",
    "    .sort_values(ascending=False)\n",
    "        \n",
    "    for index, row in P.iteritems():\n",
    "        #Extract category, prod create dict\n",
    "\n",
    "        c = str(index).split('.')\n",
    "        category = c[0]\n",
    "        product = c[-1]\n",
    "\n",
    "        if category in prod_cat:\n",
    "\n",
    "            if product in prod_cat[category]:\n",
    "\n",
    "                prod_cat[category][product] += int(row)\n",
    "\n",
    "            else:\n",
    "\n",
    "                prod_cat[category][product] = int(row)\n",
    "\n",
    "        else:\n",
    "\n",
    "            prod_cat[category] = {product: int(row)}\n",
    "            \n",
    "            \n",
    "prod_cat={}           \n",
    "for file in files:\n",
    "    for chunk in pd.read_csv(file, chunksize=chunksize):\n",
    "        sold_products_per_category(chunk)\n",
    "\n",
    "        \n",
    "for el in prod_cat:    \n",
    "    print(f'{el}:')\n",
    "    print((list(prod_cat[el])[:10]))\n"
   ]
  },
  {
   "cell_type": "raw",
   "metadata": {},
   "source": [
    "For each category there are the ten most visited product. Some categories have less then 10 products. "
   ]
  },
  {
   "cell_type": "raw",
   "metadata": {},
   "source": []
  },
  {
   "cell_type": "markdown",
   "metadata": {},
   "source": [
    "# [RQ3] For each category, what’s the brand whose prices are higher on average?"
   ]
  },
  {
   "cell_type": "markdown",
   "metadata": {},
   "source": [
    "\n",
    "## Write a function that asks the user a category in input and returns a plot indicating the average price of the products sold by the brand.\n"
   ]
  },
  {
   "cell_type": "code",
   "execution_count": 29,
   "metadata": {},
   "outputs": [],
   "source": [
    "# extract the list of the categories\n",
    "\n",
    "def find_all_categories(data):\n",
    "    \n",
    "    #only categories for purchases\n",
    "    purchases = data[data['event_type'] == 'purchase']\n",
    "    #delete nan\n",
    "    purchases_category = purchases[purchases.category_code.notnull()]\n",
    "    \n",
    "    categories=purchases_category['category_code']\n",
    "    \n",
    "    for index, row in categories.iteritems():\n",
    "        category_list.append(row)\n",
    "\n",
    "\n",
    "category_list=[]\n",
    "for file in files:\n",
    "    for chunk in pd.read_csv(file, chunksize=chunksize):\n",
    "        find_all_categories(chunk)\n",
    "        "
   ]
  },
  {
   "cell_type": "code",
   "execution_count": 28,
   "metadata": {
    "scrolled": true
   },
   "outputs": [
    {
     "name": "stdout",
     "output_type": "stream",
     "text": [
      "auto.accessories.parktronic\n",
      "appliances.kitchen.washer\n",
      "appliances.kitchen.mixer\n",
      "appliances.kitchen.hob\n",
      "electronics.video.projector\n",
      "furniture.bathroom.bath\n",
      "computers.components.videocards\n",
      "computers.ebooks\n",
      "electronics.audio.subwoofer\n",
      "computers.components.cooler\n",
      "furniture.bathroom.toilet\n",
      "construction.tools.welding\n",
      "appliances.environment.air_conditioner\n",
      "appliances.kitchen.microwave\n",
      "apparel.glove\n",
      "construction.tools.drill\n",
      "electronics.camera.photo\n",
      "construction.tools.light\n",
      "electronics.clocks\n",
      "construction.tools.pump\n",
      "auto.accessories.anti_freeze\n",
      "computers.components.hdd\n",
      "computers.notebook\n",
      "kids.carriage\n",
      "electronics.audio.acoustic\n",
      "kids.fmcg.diapers\n",
      "kids.swing\n",
      "stationery.cartrige\n",
      "sport.tennis\n",
      "electronics.tablet\n",
      "furniture.bedroom.blanket\n",
      "auto.accessories.compressor\n",
      "construction.components.faucet\n",
      "appliances.iron\n",
      "auto.accessories.alarm\n",
      "furniture.universal.light\n",
      "computers.peripherals.keyboard\n",
      "appliances.kitchen.dishwasher\n",
      "appliances.kitchen.refrigerators\n",
      "sport.ski\n",
      "computers.components.motherboard\n",
      "electronics.audio.headphone\n",
      "appliances.kitchen.coffee_grinder\n",
      "appliances.personal.scales\n",
      "appliances.kitchen.juicer\n",
      "sport.trainer\n",
      "apparel.scarf\n",
      "appliances.kitchen.toster\n",
      "apparel.jumper\n",
      "apparel.sock\n",
      "auto.accessories.radar\n",
      "medicine.tools.tonometer\n",
      "apparel.jacket\n",
      "electronics.camera.video\n",
      "electronics.audio.microphone\n",
      "appliances.environment.water_heater\n",
      "accessories.wallet\n",
      "kids.skates\n",
      "computers.components.power_supply\n",
      "apparel.shirt\n",
      "auto.accessories.winch\n",
      "furniture.bedroom.pillow\n",
      "appliances.kitchen.grill\n",
      "appliances.environment.vacuum\n",
      "construction.tools.saw\n",
      "auto.accessories.videoregister\n",
      "construction.tools.generator\n",
      "appliances.environment.fan\n",
      "apparel.costume\n",
      "apparel.shoes.ballet_shoes\n",
      "computers.desktop\n",
      "sport.snowboard\n",
      "country_yard.cultivator\n",
      "construction.tools.soldering\n",
      "appliances.kitchen.fryer\n",
      "apparel.trousers\n",
      "computers.peripherals.mouse\n",
      "appliances.kitchen.steam_cooker\n",
      "apparel.dress\n",
      "country_yard.furniture.hammok\n",
      "apparel.belt\n",
      "appliances.kitchen.meat_grinder\n",
      "apparel.shoes\n",
      "electronics.smartphone\n",
      "computers.components.cpu\n",
      "furniture.kitchen.chair\n",
      "electronics.audio.music_tools.piano\n",
      "computers.peripherals.camera\n",
      "computers.components.memory\n",
      "electronics.telephone\n",
      "apparel.shoes.slipons\n",
      "appliances.kitchen.kettle\n",
      "auto.accessories.player\n",
      "furniture.living_room.cabinet\n",
      "appliances.kitchen.oven\n",
      "electronics.video.tv\n",
      "apparel.jeans\n",
      "apparel.shoes.moccasins\n",
      "construction.tools.screw\n",
      "appliances.personal.hair_cutter\n",
      "construction.tools.painting\n",
      "apparel.shoes.sandals\n",
      "appliances.ironing_board\n",
      "appliances.personal.massager\n",
      "kids.toys\n",
      "computers.peripherals.printer\n",
      "furniture.bedroom.bed\n",
      "kids.dolls\n",
      "furniture.living_room.sofa\n",
      "country_yard.lawn_mower\n",
      "apparel.shorts\n",
      "appliances.kitchen.blender\n",
      "furniture.kitchen.table\n",
      "appliances.sewing_machine\n",
      "apparel.skirt\n",
      "accessories.umbrella\n",
      "apparel.tshirt\n",
      "computers.peripherals.monitor\n",
      "sport.bicycle\n",
      "accessories.bag\n",
      "apparel.shoes.step_ins\n",
      "appliances.environment.air_heater\n",
      "furniture.living_room.chair\n",
      "apparel.shoes.keds\n",
      "apparel.underwear\n",
      "appliances.kitchen.coffee_machine\n",
      "appliances.kitchen.hood\n"
     ]
    }
   ],
   "source": [
    "#list of all the categories you can choose\n",
    "cat_tot= list(set(category_list))\n",
    "\n",
    "for i in cat_tot:\n",
    "    print(i)"
   ]
  },
  {
   "cell_type": "markdown",
   "metadata": {},
   "source": [
    "#### Function that asks the user a category in input and returns a plot"
   ]
  },
  {
   "cell_type": "code",
   "execution_count": 27,
   "metadata": {},
   "outputs": [
    {
     "name": "stdout",
     "output_type": "stream",
     "text": [
      "Choose a category:\n",
      "sport.tennis\n"
     ]
    },
    {
     "data": {
      "image/png": "[encoded data removed]",
      "text/plain": [
       "<Figure size 432x288 with 1 Axes>"
      ]
     },
     "metadata": {
      "needs_background": "light"
     },
     "output_type": "display_data"
    }
   ],
   "source": [
    "def avg_analysis(data, category):\n",
    "    \n",
    "    #preparing data, extract columns\n",
    "    avg = data[['category_code', 'brand', 'price']]\n",
    "    avg_brand = avg[avg.brand.notnull()]\n",
    "    \n",
    "    \n",
    "    avg_brand.groupby(['category_code', 'brand'])['price'].mean() \\\n",
    "        .sort_values(ascending=False)\n",
    "    \n",
    "    # new series grouped by category with avg price per brand\n",
    "    a = avg_brand.groupby([avg_brand.category_code, avg_brand.brand]) \\\n",
    "        .price.mean()\n",
    "    \n",
    "    #Access a group of rows and columns by category\n",
    "    c = a.loc[f'{category}']\n",
    "\n",
    "    for index, row in c.iteritems():\n",
    "\n",
    "        # Extract category code, product and create dict\n",
    "        cat_prod = str(index).split('.')\n",
    "        brand = index\n",
    "        product = cat_prod[-1]\n",
    "        avg_price = round(float(row), 2)\n",
    "\n",
    "        if brand not in brand_avg_price.keys():\n",
    "            brand_avg_price[brand] = avg_price\n",
    "\n",
    "    return brand_avg_price\n",
    "\n",
    "\n",
    "def plot(category):\n",
    "    \n",
    "    #data\n",
    "    dict_brand_avg={}\n",
    "    for file in files:\n",
    "        for chunk in pd.read_csv(file, chunksize=chunksize):\n",
    "            dict_brand_avg = avg_analysis(chunk, category)\n",
    "\n",
    "    #define x and y\n",
    "    x = []\n",
    "    y = []\n",
    "\n",
    "    for i in dict_brand_avg.keys():\n",
    "        x.append(i)\n",
    "    for j in dict_brand_avg.values():\n",
    "        y.append(j)\n",
    "\n",
    "\n",
    "    # Plot\n",
    "    plt.title('Average price of the products sold by the brand')\n",
    "    y_pos = np.arange(len(x))\n",
    "    plt.barh(y_pos, y, align='center', alpha=1)\n",
    "    plt.yticks(y_pos, x)\n",
    "    plt.ylabel('Brand')\n",
    "    plt.xlabel('Average price')\n",
    "    plt.show()\n",
    "\n",
    "# dict with brand and avg price\n",
    "brand_avg_price = {}\n",
    "\n",
    "# category in input\n",
    "print('Choose a category:')\n",
    "category = input()\n",
    "\n",
    "plot(category)"
   ]
  },
  {
   "cell_type": "markdown",
   "metadata": {},
   "source": [
    "## Find, for each category, the brand with the highest average price. Return all the results in ascending order by price."
   ]
  },
  {
   "cell_type": "code",
   "execution_count": null,
   "metadata": {},
   "outputs": [],
   "source": [
    "def sold_products_per_category(data):\n",
    "    avg = data[['category_code', 'brand', 'price']]\n",
    "    avg_brand = avg[avg.brand.notnull()]\n",
    "\n",
    "    avg_brand.groupby(['category_code', 'brand'])['price'].mean() \\\n",
    "        #.sort_values(ascending=False)\n",
    "\n",
    "    #sort by price, first  the brands with highest avg price and thei category\n",
    "    a = avg_brand.groupby([avg_brand.category_code, avg_brand.brand])['price'].mean() \\\n",
    "        .sort_values(ascending=False)\n",
    "\n",
    "\n",
    "    for index, row in a.iteritems():\n",
    "        # Extract category, brand, avg price create dict with only the first brand per category\n",
    "\n",
    "        category = (index[0])\n",
    "        brand = (index[1])\n",
    "        avg_price = round(float(row),2)\n",
    "\n",
    "        if category not in highest_brand.keys():\n",
    "            highest_brand[category] = f'{brand} : {avg_price}'\n",
    "\n",
    "\n",
    "\n",
    "highest_brand = {}\n",
    "for file in files:\n",
    "    for chunk in pd.read_csv(file, chunksize=chunksize):\n",
    "        sold_products_per_category(chunk)\n"
   ]
  },
  {
   "cell_type": "code",
   "execution_count": 31,
   "metadata": {},
   "outputs": [
    {
     "name": "stdout",
     "output_type": "stream",
     "text": [
      "sport.bicycle pinarello : 2367.89\n",
      "appliances.kitchen.refrigerators climadiff : 2325.9\n",
      "electronics.clocks rado : 2112.48\n",
      "appliances.kitchen.washer siemens : 1973.05\n",
      "appliances.kitchen.coffee_machine jura : 1948.97\n",
      "appliances.kitchen.steam_cooker kuppersberg : 1923.66\n",
      "computers.desktop apple : 1821.24\n",
      "kids.carriage hartan : 1801.82\n",
      "electronics.video.projector xiaomi : 1801.15\n",
      "appliances.kitchen.oven kuppersbusch : 1761.18\n",
      "appliances.kitchen.microwave kuppersberg : 1708.65\n",
      "appliances.kitchen.hood kuppersbusch : 1625.67\n",
      "computers.notebook apple : 1623.24\n",
      "kids.skates minimotors : 1600.52\n",
      "electronics.audio.acoustic blg : 1541.87\n",
      "appliances.iron laurastar : 1492.72\n",
      "electronics.camera.video panasonic : 1477.8\n",
      "construction.tools.generator senci : 1455.27\n",
      "computers.components.videocards evga : 1419.53\n",
      "appliances.sewing_machine babylock : 1377.03\n",
      "sport.trainer shua : 1305.32\n",
      "appliances.environment.air_conditioner panasonic : 1298.9\n",
      "furniture.living_room.sofa askona : 1261.86\n",
      "sport.ski stockli : 1235.3\n",
      "furniture.universal.light preciosa : 1225.79\n",
      "appliances.kitchen.dishwasher smeg : 1221.89\n",
      "construction.tools.saw festool : 1213.43\n",
      "appliances.kitchen.hob kuppersbusch : 1165.3\n",
      "computers.components.cpu hpe : 1155.53\n",
      "construction.tools.welding telwin : 1138.78\n",
      "computers.peripherals.monitor asus : 1122.67\n",
      "construction.tools.pump kelet : 1106.82\n",
      "electronics.camera.photo panasonic : 1058.16\n",
      "auto.accessories.compressor schneider : 1048.9\n",
      "electronics.video.tv kuppersbusch : 1029.63\n",
      "country_yard.lawn_mower viking : 1026.54\n",
      "appliances.kitchen.mixer kitchenaid : 1008.93\n",
      "furniture.living_room.cabinet permanence : 988.42\n",
      "electronics.tablet microsoft : 979.15\n",
      "electronics.smartphone apple : 933.76\n",
      "furniture.living_room.chair aerocool : 849.42\n",
      "electronics.audio.music_tools.piano korg : 844.98\n",
      "furniture.bathroom.toilet laufen : 841.22\n",
      "furniture.kitchen.table aero : 776.33\n",
      "furniture.bathroom.bath libero : 768.94\n",
      "appliances.environment.water_heater sunsystem : 736.77\n",
      "computers.components.hdd hpe : 729.66\n",
      "construction.components.faucet smeg : 723.63\n",
      "furniture.bedroom.bed micuna : 699.97\n",
      "appliances.environment.vacuum dewalt : 693.4\n",
      "country_yard.cultivator viking : 671.1\n",
      "construction.tools.drill metabo : 644.09\n",
      "kids.swing obi : 643.08\n",
      "appliances.kitchen.blender kitchenaid : 630.62\n",
      "appliances.kitchen.grill char-broil : 628.54\n",
      "electronics.audio.microphone neumann : 603.38\n",
      "furniture.kitchen.chair micuna : 549.01\n",
      "appliances.kitchen.meat_grinder bork : 507.07\n",
      "accessories.bag weekend : 504.63\n",
      "auto.accessories.videoregister blackvue : 473.79\n",
      "auto.accessories.player incar : 473.31\n",
      "auto.accessories.winch t-max : 469.56\n",
      "computers.components.memory hpe : 467.75\n",
      "appliances.environment.fan deton : 461.98\n",
      "appliances.kitchen.juicer hurom : 458.74\n",
      "computers.components.power_supply asus : 452.11\n",
      "sport.snowboard roxy : 411.59\n",
      "appliances.kitchen.toster kitchenaid : 386.6\n",
      "construction.tools.painting wagner : 353.27\n",
      "auto.accessories.alarm pandora : 350.41\n",
      "appliances.ironing_board delonghi : 347.47\n",
      "computers.peripherals.printer kyocera : 335.02\n",
      "electronics.audio.headphone parrot : 334.6\n",
      "apparel.shoes weekend : 331.72\n",
      "apparel.sock cybex : 326.69\n",
      "apparel.shoes.moccasins weekend : 324.33\n",
      "appliances.kitchen.kettle kitchenaid : 290.01\n",
      "construction.tools.light metabo : 283.04\n",
      "electronics.audio.subwoofer aces : 271.39\n",
      "computers.peripherals.keyboard apple : 269.84\n",
      "country_yard.furniture.bench makarena : 230.22\n",
      "appliances.environment.air_heater firman : 229.21\n",
      "apparel.shoes.keds persona : 229.09\n",
      "country_yard.furniture.hammok ventara : 228.46\n",
      "computers.components.motherboard asus : 206.42\n",
      "apparel.jeans weekend : 205.19\n",
      "computers.ebooks amazon : 194.69\n",
      "appliances.personal.hair_cutter mrm-power : 194.69\n",
      "computers.peripherals.camera logitech : 190.76\n",
      "appliances.personal.massager yamaguchi : 188.65\n",
      "appliances.personal.scales garmin : 188.43\n",
      "kids.toys sphero : 181.45\n",
      "furniture.bedroom.pillow askona : 159.97\n",
      "apparel.tshirt weekend : 158.62\n",
      "computers.components.cooler nzxt : 150.16\n",
      "computers.peripherals.mouse hp : 148.77\n",
      "auto.accessories.radar neoline : 146.95\n",
      "sport.tennis wilson : 141.42\n",
      "apparel.shirt harley-davidson : 120.38\n",
      "furniture.bedroom.blanket askona : 115.24\n",
      "auto.accessories.parktronic incar : 96.53\n",
      "apparel.shoes.slipons vans : 84.69\n",
      "appliances.kitchen.coffee_grinder delonghi : 75.03\n",
      "apparel.trousers jordan : 70.51\n",
      "apparel.costume aivengo : 70.25\n",
      "apparel.shoes.sandals ara : 68.02\n",
      "accessories.wallet petek : 67.21\n",
      "stationery.cartrige xerox : 66.67\n",
      "medicine.tools.tonometer omron : 56.26\n",
      "kids.dolls crybabies : 54.06\n",
      "electronics.telephone philips : 53.06\n",
      "apparel.shoes.ballet_shoes greyder : 52.04\n",
      "apparel.jacket aivengo : 50.43\n",
      "apparel.dress sly : 46.83\n",
      "apparel.underwear jasmine : 46.33\n",
      "apparel.shoes.step_ins greyder : 43.76\n",
      "apparel.belt carpisa : 30.86\n",
      "apparel.skirt sly : 30.61\n",
      "kids.fmcg.diapers insinse : 28.68\n",
      "accessories.umbrella hoco : 25.71\n",
      "apparel.scarf fabretti : 23.26\n",
      "apparel.shoes.espadrilles rieker : 22.65\n",
      "apparel.shorts carters : 18.12\n",
      "apparel.jumper weekend : 373.24\n",
      "construction.tools.soldering matrix : 7.44\n",
      "auto.accessories.anti_freeze wurth : 19.92\n",
      "apparel.glove velo : 77.22\n",
      "construction.tools.screw makita : 226.73\n",
      "appliances.kitchen.fryer clatronic : 46.31\n"
     ]
    }
   ],
   "source": [
    "for brand in highest_brand:\n",
    "    print(brand, highest_brand[brand] )"
   ]
  },
  {
   "cell_type": "markdown",
   "metadata": {},
   "source": [
    "# [RQ4] How much does each brand earn per month?\n",
    "## Write a function that given the name of a brand in input returns, for each month, its profit. \n"
   ]
  },
  {
   "cell_type": "markdown",
   "metadata": {},
   "source": [
    "### Brand's profit  -month: October"
   ]
  },
  {
   "cell_type": "code",
   "execution_count": 18,
   "metadata": {},
   "outputs": [
    {
     "name": "stdout",
     "output_type": "stream",
     "text": [
      "brand\n",
      "apple         1.112093e+08\n",
      "samsung       4.640753e+07\n",
      "xiaomi        9.194033e+06\n",
      "huawei        4.883422e+06\n",
      "acer          3.576720e+06\n",
      "                  ...     \n",
      "wuw           3.090000e+00\n",
      "cettua        2.550000e+00\n",
      "heinz         2.160000e+00\n",
      "feron         1.930000e+00\n",
      "kleancolor    1.670000e+00\n",
      "Name: price, Length: 1983, dtype: float64\n"
     ]
    }
   ],
   "source": [
    "purchases_O = datasetO[datasetO['event_type'] == 'purchase']\n",
    "\n",
    "bO=purchases_O.groupby('brand').price.sum()\\\n",
    ".sort_values(ascending=False)\n",
    "\n",
    "print(bO)  "
   ]
  },
  {
   "cell_type": "markdown",
   "metadata": {},
   "source": [
    "### Brand's profit  -month: November"
   ]
  },
  {
   "cell_type": "code",
   "execution_count": 19,
   "metadata": {},
   "outputs": [
    {
     "name": "stdout",
     "output_type": "stream",
     "text": [
      "brand\n",
      "apple       1.275125e+08\n",
      "samsung     5.486988e+07\n",
      "xiaomi      1.125987e+07\n",
      "lg          5.239019e+06\n",
      "huawei      4.780682e+06\n",
      "                ...     \n",
      "soyntec     2.550000e+00\n",
      "kisswill    2.460000e+00\n",
      "heinz       1.180000e+00\n",
      "banbao      1.180000e+00\n",
      "dfz         9.000000e-01\n",
      "Name: price, Length: 2486, dtype: float64\n"
     ]
    }
   ],
   "source": [
    "purchases_N = datasetN[datasetN['event_type'] == 'purchase']\n",
    "#['event_type'] == 'purchase'].groupby('brand').price.sum()\n",
    "bN=purchases_N.groupby('brand').price.sum()\\\n",
    ".sort_values(ascending=False)\n",
    "\n",
    "print(bN)"
   ]
  },
  {
   "cell_type": "code",
   "execution_count": 20,
   "metadata": {},
   "outputs": [],
   "source": [
    "#October total gained per brand\n",
    "\n",
    "brand_price_O = {}\n",
    "\n",
    "for index, row in bO.iteritems():\n",
    "    #Extract brand + tot, create dict\n",
    "    brand = str(index)\n",
    "    tot = float(row)\n",
    "    \n",
    "    if brand not in brand_price_O.keys():\n",
    "        brand_price_O[brand] = tot\n",
    "\n",
    "else:\n",
    "    brand_price_O[brand] += tot\n",
    "\n",
    "#November total gained per brand\n",
    "\n",
    "brand_price_N = {}\n",
    "\n",
    "for index, row in bN.iteritems():\n",
    "    #Extract brand + tot, create dict\n",
    "    brand = str(index)\n",
    "    tot = float(row)\n",
    "    \n",
    "    if brand not in brand_price_N.keys():\n",
    "        brand_price_N[brand] = tot\n",
    "\n",
    "else:\n",
    "    brand_price_N[brand] += tot\n",
    "\n"
   ]
  },
  {
   "cell_type": "markdown",
   "metadata": {},
   "source": [
    "### Function that given the name of a brand in input returns, for each month, its profit"
   ]
  },
  {
   "cell_type": "code",
   "execution_count": 21,
   "metadata": {},
   "outputs": [],
   "source": [
    "def month_gain_brand():\n",
    "    \n",
    "    print('Choose a brand:')\n",
    "    brand= input()\n",
    "    \n",
    "    if brand in brand_price_O:\n",
    "        gain_oct=brand_price_O[brand]\n",
    "        print(f'In October {brand} gained: ' + str(round(gain_oct, 2)))    \n",
    "    else:\n",
    "        print(f'In October {brand} has not sold products')\n",
    "              \n",
    "    \n",
    "    if brand in brand_price_N:\n",
    "              \n",
    "        gain_nov=brand_price_N[brand]\n",
    "        print(f'In November {brand} gained: ' + str(round(gain_nov, 2)))\n",
    "              \n",
    "    else:\n",
    "        print(f'In November {brand} has not sold products')\n"
   ]
  },
  {
   "cell_type": "markdown",
   "metadata": {},
   "source": [
    "Example:"
   ]
  },
  {
   "cell_type": "code",
   "execution_count": 22,
   "metadata": {},
   "outputs": [
    {
     "name": "stdout",
     "output_type": "stream",
     "text": [
      "Choose a brand:\n",
      "asus\n",
      "In October asus gained: 970019.39\n",
      "In November asus gained: 1665811.59\n"
     ]
    }
   ],
   "source": [
    "month_gain_brand()"
   ]
  },
  {
   "cell_type": "markdown",
   "metadata": {},
   "source": [
    "## Is the average price of products of different brands significantly different?"
   ]
  },
  {
   "cell_type": "code",
   "execution_count": 47,
   "metadata": {},
   "outputs": [],
   "source": [
    "def avg_price_brand(data):\n",
    "\n",
    "    # Pandas series with two columns that i'll use\n",
    "    avg = data[['brand','price']]\n",
    "\n",
    "    # Eliminate nan values\n",
    "    avg_brand = avg[avg.brand.notnull()]\n",
    "\n",
    "    # Append the series calculated by count the purchases and views group by category_code\n",
    "    brand_avg_list.append(avg_brand.groupby(['brand'])['price'].mean())\n",
    "\n",
    "\n",
    "# Init Category Analysis DataFrame\n",
    "brand_avg_list = []\n",
    "\n",
    "# Fetch Files to Read\n",
    "for file in files:\n",
    "    for chunk in pd.read_csv(file, chunksize=chunksize):\n",
    "        avg_price_brand(chunk)\n",
    "\n",
    "# Join DataFrames\n",
    "brand_avg = pd.concat(brand_avg_list).sum(level='brand').reset_index()"
   ]
  },
  {
   "cell_type": "code",
   "execution_count": 49,
   "metadata": {},
   "outputs": [
    {
     "data": {
      "text/html": [
       "<div>\n",
       "<style scoped>\n",
       "    .dataframe tbody tr th:only-of-type {\n",
       "        vertical-align: middle;\n",
       "    }\n",
       "\n",
       "    .dataframe tbody tr th {\n",
       "        vertical-align: top;\n",
       "    }\n",
       "\n",
       "    .dataframe thead th {\n",
       "        text-align: right;\n",
       "    }\n",
       "</style>\n",
       "<table border=\"1\" class=\"dataframe\">\n",
       "  <thead>\n",
       "    <tr style=\"text-align: right;\">\n",
       "      <th></th>\n",
       "      <th>brand</th>\n",
       "      <th>price</th>\n",
       "    </tr>\n",
       "  </thead>\n",
       "  <tbody>\n",
       "    <tr>\n",
       "      <th>0</th>\n",
       "      <td>a-case</td>\n",
       "      <td>1377.770812</td>\n",
       "    </tr>\n",
       "    <tr>\n",
       "      <th>1</th>\n",
       "      <td>a-derma</td>\n",
       "      <td>1386.779946</td>\n",
       "    </tr>\n",
       "    <tr>\n",
       "      <th>2</th>\n",
       "      <td>a-elita</td>\n",
       "      <td>4215.801486</td>\n",
       "    </tr>\n",
       "    <tr>\n",
       "      <th>3</th>\n",
       "      <td>a-mega</td>\n",
       "      <td>9205.192400</td>\n",
       "    </tr>\n",
       "    <tr>\n",
       "      <th>4</th>\n",
       "      <td>aardwolf</td>\n",
       "      <td>3633.720518</td>\n",
       "    </tr>\n",
       "  </tbody>\n",
       "</table>\n",
       "</div>"
      ],
      "text/plain": [
       "      brand        price\n",
       "0    a-case  1377.770812\n",
       "1   a-derma  1386.779946\n",
       "2   a-elita  4215.801486\n",
       "3    a-mega  9205.192400\n",
       "4  aardwolf  3633.720518"
      ]
     },
     "execution_count": 49,
     "metadata": {},
     "output_type": "execute_result"
    }
   ],
   "source": [
    "brand_avg.head()"
   ]
  },
  {
   "cell_type": "code",
   "execution_count": 52,
   "metadata": {
    "scrolled": true
   },
   "outputs": [
    {
     "data": {
      "text/html": [
       "<div>\n",
       "<style scoped>\n",
       "    .dataframe tbody tr th:only-of-type {\n",
       "        vertical-align: middle;\n",
       "    }\n",
       "\n",
       "    .dataframe tbody tr th {\n",
       "        vertical-align: top;\n",
       "    }\n",
       "\n",
       "    .dataframe thead th {\n",
       "        text-align: right;\n",
       "    }\n",
       "</style>\n",
       "<table border=\"1\" class=\"dataframe\">\n",
       "  <thead>\n",
       "    <tr style=\"text-align: right;\">\n",
       "      <th></th>\n",
       "      <th>price</th>\n",
       "    </tr>\n",
       "  </thead>\n",
       "  <tbody>\n",
       "    <tr>\n",
       "      <th>count</th>\n",
       "      <td>4302.000000</td>\n",
       "    </tr>\n",
       "    <tr>\n",
       "      <th>mean</th>\n",
       "      <td>13030.801007</td>\n",
       "    </tr>\n",
       "    <tr>\n",
       "      <th>std</th>\n",
       "      <td>23803.575793</td>\n",
       "    </tr>\n",
       "    <tr>\n",
       "      <th>min</th>\n",
       "      <td>2.520000</td>\n",
       "    </tr>\n",
       "    <tr>\n",
       "      <th>25%</th>\n",
       "      <td>1040.792308</td>\n",
       "    </tr>\n",
       "    <tr>\n",
       "      <th>50%</th>\n",
       "      <td>4145.602724</td>\n",
       "    </tr>\n",
       "    <tr>\n",
       "      <th>75%</th>\n",
       "      <td>13389.262484</td>\n",
       "    </tr>\n",
       "    <tr>\n",
       "      <th>max</th>\n",
       "      <td>252850.570000</td>\n",
       "    </tr>\n",
       "  </tbody>\n",
       "</table>\n",
       "</div>"
      ],
      "text/plain": [
       "               price\n",
       "count    4302.000000\n",
       "mean    13030.801007\n",
       "std     23803.575793\n",
       "min         2.520000\n",
       "25%      1040.792308\n",
       "50%      4145.602724\n",
       "75%     13389.262484\n",
       "max    252850.570000"
      ]
     },
     "execution_count": 52,
     "metadata": {},
     "output_type": "execute_result"
    }
   ],
   "source": [
    "brand_avg.describe()"
   ]
  },
  {
   "cell_type": "raw",
   "metadata": {},
   "source": [
    "Yes, the mean price is about 13030.80 but the minimum is about 2.52 and the maximum is about 252850.57. So it looks like the difference is really significant."
   ]
  },
  {
   "cell_type": "markdown",
   "metadata": {},
   "source": [
    "## Top 3 brands that have suffered the biggest losses in earnings between one month and the next."
   ]
  },
  {
   "cell_type": "code",
   "execution_count": 125,
   "metadata": {},
   "outputs": [],
   "source": [
    "losses=[]\n",
    "losses_d={} \n",
    "\n",
    "def loss(brand):\n",
    "    if brand in brand_price_O:\n",
    "        if brand in brand_price_N:\n",
    "            gain_oct=float(brand_price_O[brand])\n",
    "            gain_nov=float(brand_price_N[brand])\n",
    "            loss= ((gain_nov - gain_oct)/ gain_oct)*100\n",
    "            losses_d[brand] = loss\n",
    "\n",
    "brand_O = list(brand_price_O.keys())\n",
    "brand_N =list(brand_price_N.keys())\n",
    "brand_tot = list(set(brand_O + brand_N))\n",
    "            \n",
    "for brand in brand_tot:\n",
    "    loss(brand)"
   ]
  },
  {
   "cell_type": "code",
   "execution_count": 136,
   "metadata": {},
   "outputs": [
    {
     "name": "stdout",
     "output_type": "stream",
     "text": [
      " jonnesway lost -96.6% between October and November \n",
      " sunfull lost -96.0% between October and November \n",
      " evga lost -95.9% between October and November\n"
     ]
    }
   ],
   "source": [
    "losses_d_ord = sorted(losses_d.items(), key = lambda x: x[1])\n",
    "top3_brand = losses_d_ord[0:3]\n",
    "\n",
    "brand = []\n",
    "perc = []\n",
    "\n",
    "for b in top3_brand:\n",
    "    brand.append(b[0])\n",
    "    perc.append(round(b[1], 1))\n",
    "    \n",
    "    \n",
    "print(f\" {brand[0]} lost {perc[0]}% between October and November \\n\"\n",
    "      f\" {brand[1]} lost {perc[1]}% between October and November \\n\"\n",
    "      f\" {brand[2]} lost {perc[2]}% between October and November\")\n"
   ]
  },
  {
   "cell_type": "raw",
   "metadata": {},
   "source": []
  },
  {
   "cell_type": "markdown",
   "metadata": {},
   "source": [
    "# [RQ5] In what part of the day is your store most visited? \n",
    "### Knowing which days of the week or even which hours of the day shoppers are likely to visit your online store and make a purchase may help you improve your strategies. \n",
    "\n",
    "## Create a plot that for each day of the week show the hourly average of visitors your store has."
   ]
  },
  {
   "cell_type": "code",
   "execution_count": null,
   "metadata": {},
   "outputs": [],
   "source": [
    "def visits_analysis(data):\n",
    "\n",
    "    \"\"\"\n",
    "    Function that populates the Visits dictionary with the number of visits per Day/Hour\n",
    "    :param data: Chunk\n",
    "    :return: Dictionary\n",
    "    \"\"\"\n",
    "\n",
    "    # Filter Data of Purchases Only\n",
    "    purchases = data[data['event_type'] == 'purchase']\n",
    "\n",
    "    # Fetch Rows\n",
    "    for index, row in purchases.iterrows():\n",
    "\n",
    "        # Extract Week Day and Hour\n",
    "        date = datetime.strptime(row['event_time'], '%Y-%m-%d %H:%M:%S UTC')\n",
    "        week_day = calendar.day_name[date.weekday()]\n",
    "        hour = int(date.hour)\n",
    "\n",
    "        # Populate the Visits Dictionary\n",
    "        if week_day in visits_dict:\n",
    "\n",
    "            if hour in visits_dict[week_day]:\n",
    "\n",
    "                visits_dict[week_day][hour] += 1\n",
    "\n",
    "            else:\n",
    "\n",
    "                visits_dict[week_day][hour] = 1\n",
    "\n",
    "        else:\n",
    "\n",
    "            visits_dict[week_day] = {hour: 1}\n",
    "\n",
    "\n",
    "def visits_plotting(data):\n",
    "\n",
    "    \"\"\"\n",
    "    Function that plots 7 different subplot with visits per hours, divided by weekday\n",
    "    :param data: Visits Dictionary\n",
    "    :return: None\n",
    "    \"\"\"\n",
    "\n",
    "    # Init Figure\n",
    "    plt.figure(figsize=(75, 75))\n",
    "\n",
    "    # Init Subplot Position\n",
    "    figure_position = 1\n",
    "\n",
    "    # Fetch Weekday\n",
    "    for weekday in data.keys():\n",
    "\n",
    "        # Convert Hour Key to Integer\n",
    "        weekday_data = {int(k): int(v) for k, v in data[weekday].items()}\n",
    "\n",
    "        # Order by Hour\n",
    "        ordered_data = OrderedDict(sorted(weekday_data.items()))\n",
    "\n",
    "        hours = []\n",
    "        visits = []\n",
    "\n",
    "        # Populate x and y\n",
    "        for hour, visit in ordered_data.items():\n",
    "            hours.append(hour)\n",
    "            visits.append(visit)\n",
    "        #print(visits)\n",
    "\n",
    "        # Plot\n",
    "        plt.subplot(4, 2, figure_position)\n",
    "        plt.bar(hours, visits)\n",
    "        plt.tick_params(axis='x', which='major', labelsize=50)\n",
    "        plt.ylabel('Visits')\n",
    "        plt.xlabel('Hours')\n",
    "        plt.subplots_adjust(wspace=0.4, hspace=0.4)\n",
    "        plt.title(weekday)\n",
    "\n",
    "        figure_position += 1\n",
    "\n",
    "\n",
    "    plt.show()\n",
    "\n",
    "\n",
    "# Init Visits Dictionary\n",
    "visits_dict = {}\n",
    "\n",
    "# Fetch Files to Read\n",
    "for file in files:\n",
    "    for chunk in pd.read_csv(file, chunksize=chunksize):\n",
    "        visits_analysis(chunk)\n",
    "    # Plot\n",
    "    visits_plotting(visits_dict)"
   ]
  },
  {
   "cell_type": "code",
   "execution_count": null,
   "metadata": {},
   "outputs": [],
   "source": []
  },
  {
   "cell_type": "markdown",
   "metadata": {},
   "source": [
    "# [RQ6] The conversion rate of a product is given by the number of times a product has been bought over the number of times it has been visited. What's the conversion rate of your online store?\n",
    "## Find the overall conversion rate of your store."
   ]
  },
  {
   "cell_type": "code",
   "execution_count": 23,
   "metadata": {},
   "outputs": [],
   "source": [
    "def sales_analysis(data, purchases, views):\n",
    "\n",
    "    \"\"\"\n",
    "    Funciton that counts the purchases & views and creates the corresponding dataframe group by category\n",
    "    :param data: DataFrame Chunk\n",
    "    :param purchases: Temporary number of purchases\n",
    "    :param views: Temporary number of views\n",
    "    :return: number of purchases and views\n",
    "    \"\"\"\n",
    "\n",
    "    # Calculate Purchases and Views\n",
    "    purchases = purchases + len(data[data['event_type'] == 'purchase'])\n",
    "    views = views + len(data[data['event_type'] == 'view'])\n",
    "\n",
    "    # Drop NaN values for column \"category_code\"\n",
    "    data.dropna(subset=['category_code'], inplace=True)\n",
    "\n",
    "    # Split the Category from the Sub-Category\n",
    "    data['category_code'] = data['category_code'].apply(lambda x: str(x).split('.')[0])\n",
    "\n",
    "    # Create DataFrame of only Purchases and Views\n",
    "    purchases_df = data[data['event_type'] == 'purchase']\n",
    "    views_df = data[data['event_type'] == 'view']\n",
    "\n",
    "    # Append the series calculated by count the purchases and views group by category_code\n",
    "    category_purchases_list.append(purchases_df.groupby(['category_code'])['event_time'].count())\n",
    "    category_views_list.append(views_df.groupby(['category_code'])['event_time'].count())\n",
    "\n",
    "    return purchases, views\n",
    "\n",
    "\n",
    "def calculate_category_conversion_rate(purchases, views):\n",
    "\n",
    "    \"\"\"\n",
    "    Function that calculates the overall conversion rate per category\n",
    "    :param purchases: DataFrame purchases per category\n",
    "    :param views: DataFrame views per category\n",
    "    :return: category_conversion_rate\n",
    "    \"\"\"\n",
    "\n",
    "    # Concatenate the Two Series into a DataFrame\n",
    "    category_conversion_rate = views.merge(purchases, on='category_code')\n",
    "\n",
    "    # Rename Columns\n",
    "    category_conversion_rate.rename(columns={'count_x': 'views', 'count_y': 'purchases'}, inplace=True)\n",
    "\n",
    "    # Drop NaNs\n",
    "    category_conversion_rate = category_conversion_rate.dropna()\n",
    "\n",
    "    # Calculate Conversion Rate\n",
    "    category_conversion_rate['conversion_rate'] = category_conversion_rate['purchases']/category_conversion_rate['views']\n",
    "\n",
    "    # Order by Conversion Rate Descending\n",
    "    category_conversion_rate = category_conversion_rate.sort_values(by='conversion_rate', ascending=True)\n",
    "\n",
    "    return category_conversion_rate\n"
   ]
  },
  {
   "cell_type": "markdown",
   "metadata": {},
   "source": [
    "## Plot the number of purchases of each category "
   ]
  },
  {
   "cell_type": "code",
   "execution_count": 45,
   "metadata": {},
   "outputs": [],
   "source": [
    "def plot_category_purchases_conversion_rate(data):\n",
    "\n",
    "    \"\"\"\n",
    "    Function that plots the purchases and conversion rate of each category\n",
    "    :param data: DataFrame of Purchases by Category\n",
    "    :return: Plot\n",
    "    \"\"\"\n",
    "\n",
    "    # Extract X and Y\n",
    "    x = list(data['category_code'])\n",
    "    purchases = list(data['purchases'])\n",
    "\n",
    "    # Plot\n",
    "    #plt.figure(figsize=(100, 100))\n",
    "    #plt.bar(x, purchases, width=0.3, color='b')\n",
    "    #plt.title(\"Purchases per Category\")\n",
    "    #plt.xticks(rotation=45)\n",
    "    #plt.show()\n",
    "    \n",
    "    plt.title('Purchases per Category')\n",
    "    y_pos = np.arange(len(x))\n",
    "    plt.barh(y_pos, purchases, align='center', alpha=1)\n",
    "    plt.yticks(y_pos, x)\n",
    "    plt.ylabel('Category')\n",
    "    plt.xlabel('Sold products')\n",
    "    plt.show()\n"
   ]
  },
  {
   "cell_type": "code",
   "execution_count": 27,
   "metadata": {},
   "outputs": [],
   "source": [
    "# Init Category Analysis DataFrame\n",
    "category_purchases_list = []\n",
    "category_views_list = []\n",
    "\n",
    "# Init Number of Purchases and Views\n",
    "purchases_total = 0\n",
    "views_total = 0\n",
    "\n",
    "# Fetch Files to Read\n",
    "for file in files:\n",
    "\n",
    "    for chunk in pd.read_csv(file, chunksize=chunksize):\n",
    "\n",
    "        purchases_total, views_total = sales_analysis(chunk, purchases_total, views_total)\n",
    "\n",
    "\n",
    "# Join DataFrames\n",
    "category_purchases = pd.concat(category_purchases_list).sum(level='category_code').reset_index()\n",
    "category_views = pd.concat(category_views_list).sum(level='category_code').reset_index()\n",
    "\n",
    "# Rename Column\n",
    "category_purchases.rename(columns={'event_time': 'count'}, inplace=True)\n",
    "category_views.rename(columns={'event_time': 'count'}, inplace=True)\n",
    "\n",
    "# Calculate the Category Conversion Rate\n",
    "conversion_rate_df = calculate_category_conversion_rate(category_purchases, category_views)\n"
   ]
  },
  {
   "cell_type": "code",
   "execution_count": 46,
   "metadata": {},
   "outputs": [
    {
     "data": {
      "image/png": "[encoded data removed]",
      "text/plain": [
       "<Figure size 432x288 with 1 Axes>"
      ]
     },
     "metadata": {
      "needs_background": "light"
     },
     "output_type": "display_data"
    }
   ],
   "source": [
    "# Plot\n",
    "plot_category_purchases_conversion_rate(conversion_rate_df)"
   ]
  },
  {
   "cell_type": "markdown",
   "metadata": {},
   "source": [
    "### Show the conversion rate of each category in decreasing order."
   ]
  },
  {
   "cell_type": "code",
   "execution_count": 39,
   "metadata": {},
   "outputs": [
    {
     "name": "stdout",
     "output_type": "stream",
     "text": [
      "The Overall Conversion Rate is: 0.01590817944828352\n",
      "\n",
      " Conversion Rate by Category Code:\n"
     ]
    },
    {
     "data": {
      "text/html": [
       "<div>\n",
       "<style scoped>\n",
       "    .dataframe tbody tr th:only-of-type {\n",
       "        vertical-align: middle;\n",
       "    }\n",
       "\n",
       "    .dataframe tbody tr th {\n",
       "        vertical-align: top;\n",
       "    }\n",
       "\n",
       "    .dataframe thead th {\n",
       "        text-align: right;\n",
       "    }\n",
       "</style>\n",
       "<table border=\"1\" class=\"dataframe\">\n",
       "  <thead>\n",
       "    <tr style=\"text-align: right;\">\n",
       "      <th></th>\n",
       "      <th>category_code</th>\n",
       "      <th>views</th>\n",
       "      <th>purchases</th>\n",
       "      <th>conversion_rate</th>\n",
       "    </tr>\n",
       "  </thead>\n",
       "  <tbody>\n",
       "    <tr>\n",
       "      <th>6</th>\n",
       "      <td>country_yard</td>\n",
       "      <td>31255</td>\n",
       "      <td>132</td>\n",
       "      <td>0.004223</td>\n",
       "    </tr>\n",
       "    <tr>\n",
       "      <th>1</th>\n",
       "      <td>apparel</td>\n",
       "      <td>4477518</td>\n",
       "      <td>22217</td>\n",
       "      <td>0.004962</td>\n",
       "    </tr>\n",
       "    <tr>\n",
       "      <th>8</th>\n",
       "      <td>furniture</td>\n",
       "      <td>3295250</td>\n",
       "      <td>19843</td>\n",
       "      <td>0.006022</td>\n",
       "    </tr>\n",
       "    <tr>\n",
       "      <th>0</th>\n",
       "      <td>accessories</td>\n",
       "      <td>616475</td>\n",
       "      <td>3741</td>\n",
       "      <td>0.006068</td>\n",
       "    </tr>\n",
       "    <tr>\n",
       "      <th>11</th>\n",
       "      <td>sport</td>\n",
       "      <td>415087</td>\n",
       "      <td>2725</td>\n",
       "      <td>0.006565</td>\n",
       "    </tr>\n",
       "    <tr>\n",
       "      <th>9</th>\n",
       "      <td>kids</td>\n",
       "      <td>1292002</td>\n",
       "      <td>11648</td>\n",
       "      <td>0.009015</td>\n",
       "    </tr>\n",
       "    <tr>\n",
       "      <th>5</th>\n",
       "      <td>construction</td>\n",
       "      <td>1759762</td>\n",
       "      <td>16500</td>\n",
       "      <td>0.009376</td>\n",
       "    </tr>\n",
       "    <tr>\n",
       "      <th>3</th>\n",
       "      <td>auto</td>\n",
       "      <td>2157706</td>\n",
       "      <td>21339</td>\n",
       "      <td>0.009890</td>\n",
       "    </tr>\n",
       "    <tr>\n",
       "      <th>4</th>\n",
       "      <td>computers</td>\n",
       "      <td>6297977</td>\n",
       "      <td>62332</td>\n",
       "      <td>0.009897</td>\n",
       "    </tr>\n",
       "    <tr>\n",
       "      <th>2</th>\n",
       "      <td>appliances</td>\n",
       "      <td>12837916</td>\n",
       "      <td>174022</td>\n",
       "      <td>0.013555</td>\n",
       "    </tr>\n",
       "    <tr>\n",
       "      <th>12</th>\n",
       "      <td>stationery</td>\n",
       "      <td>19323</td>\n",
       "      <td>325</td>\n",
       "      <td>0.016819</td>\n",
       "    </tr>\n",
       "    <tr>\n",
       "      <th>10</th>\n",
       "      <td>medicine</td>\n",
       "      <td>34738</td>\n",
       "      <td>654</td>\n",
       "      <td>0.018827</td>\n",
       "    </tr>\n",
       "    <tr>\n",
       "      <th>7</th>\n",
       "      <td>electronics</td>\n",
       "      <td>37026582</td>\n",
       "      <td>916667</td>\n",
       "      <td>0.024757</td>\n",
       "    </tr>\n",
       "  </tbody>\n",
       "</table>\n",
       "</div>"
      ],
      "text/plain": [
       "   category_code     views  purchases  conversion_rate\n",
       "6   country_yard     31255        132         0.004223\n",
       "1        apparel   4477518      22217         0.004962\n",
       "8      furniture   3295250      19843         0.006022\n",
       "0    accessories    616475       3741         0.006068\n",
       "11         sport    415087       2725         0.006565\n",
       "9           kids   1292002      11648         0.009015\n",
       "5   construction   1759762      16500         0.009376\n",
       "3           auto   2157706      21339         0.009890\n",
       "4      computers   6297977      62332         0.009897\n",
       "2     appliances  12837916     174022         0.013555\n",
       "12    stationery     19323        325         0.016819\n",
       "10      medicine     34738        654         0.018827\n",
       "7    electronics  37026582     916667         0.024757"
      ]
     },
     "execution_count": 39,
     "metadata": {},
     "output_type": "execute_result"
    }
   ],
   "source": [
    "# Calculate the Overall Conversion Rate\n",
    "overall_conversion_rate = purchases_total/views_total\n",
    "\n",
    "print(\"The Overall Conversion Rate is: {}\".format(str(overall_conversion_rate)))\n",
    "print(\"\\n Conversion Rate by Category Code:\")\n",
    "\n",
    "#Print conversion rate\n",
    "conversion_rate_df"
   ]
  },
  {
   "cell_type": "code",
   "execution_count": null,
   "metadata": {},
   "outputs": [],
   "source": []
  }
 ],
 "metadata": {
  "kernelspec": {
   "display_name": "Python 3",
   "language": "python",
   "name": "python3"
  },
  "language_info": {
   "codemirror_mode": {
    "name": "ipython",
    "version": 3
   },
   "file_extension": ".py",
   "mimetype": "text/x-python",
   "name": "python",
   "nbconvert_exporter": "python",
   "pygments_lexer": "ipython3",
   "version": "3.8.3"
  }
 },
 "nbformat": 4,
 "nbformat_minor": 4
}
